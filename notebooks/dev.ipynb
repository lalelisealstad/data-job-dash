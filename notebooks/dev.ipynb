{
 "cells": [
  {
   "cell_type": "code",
   "execution_count": 1,
   "metadata": {},
   "outputs": [
    {
     "data": {
      "text/plain": [
       "'/Users/elisealstad/code/dataengineer-job-dash'"
      ]
     },
     "execution_count": 1,
     "metadata": {},
     "output_type": "execute_result"
    }
   ],
   "source": [
    "# set working directory to same place ass app.py to import programs the same way as the app\n",
    "import os\n",
    "current_directory = os.getcwd()\n",
    "if 'notebooks' in current_directory:\n",
    "    parent_directory = os.path.abspath(os.path.join(current_directory, os.pardir))\n",
    "    os.chdir(parent_directory)\n",
    "os.getcwd()"
   ]
  },
  {
   "cell_type": "code",
   "execution_count": 44,
   "metadata": {},
   "outputs": [
    {
     "data": {
      "text/html": [
       "<div>\n",
       "<style scoped>\n",
       "    .dataframe tbody tr th:only-of-type {\n",
       "        vertical-align: middle;\n",
       "    }\n",
       "\n",
       "    .dataframe tbody tr th {\n",
       "        vertical-align: top;\n",
       "    }\n",
       "\n",
       "    .dataframe thead th {\n",
       "        text-align: right;\n",
       "    }\n",
       "</style>\n",
       "<table border=\"1\" class=\"dataframe\">\n",
       "  <thead>\n",
       "    <tr style=\"text-align: right;\">\n",
       "      <th></th>\n",
       "      <th>jobid</th>\n",
       "      <th>job_type</th>\n",
       "      <th>pay</th>\n",
       "      <th>skills</th>\n",
       "      <th>seniority</th>\n",
       "      <th>date</th>\n",
       "    </tr>\n",
       "  </thead>\n",
       "  <tbody>\n",
       "    <tr>\n",
       "      <th>0</th>\n",
       "      <td>3996220170</td>\n",
       "      <td>Data Analyst</td>\n",
       "      <td>NaN</td>\n",
       "      <td>[finance, sql, analytics, machine learning, lo...</td>\n",
       "      <td>Mid / not specified</td>\n",
       "      <td>2024-08-09 06:57:52.657002</td>\n",
       "    </tr>\n",
       "    <tr>\n",
       "      <th>1</th>\n",
       "      <td>3996250713</td>\n",
       "      <td>Data Analyst</td>\n",
       "      <td>NaN</td>\n",
       "      <td>[computer science, excel, exploratory data ana...</td>\n",
       "      <td>Junior</td>\n",
       "      <td>2024-08-09 06:57:52.657002</td>\n",
       "    </tr>\n",
       "    <tr>\n",
       "      <th>2</th>\n",
       "      <td>3994299447</td>\n",
       "      <td>Data Analyst</td>\n",
       "      <td>28.0</td>\n",
       "      <td>[sql, jira, looker, support, mobile, advertising]</td>\n",
       "      <td>Junior</td>\n",
       "      <td>2024-08-09 06:57:52.657002</td>\n",
       "    </tr>\n",
       "    <tr>\n",
       "      <th>3</th>\n",
       "      <td>3996534267</td>\n",
       "      <td>Data Analyst</td>\n",
       "      <td>NaN</td>\n",
       "      <td>[excel, specification, data processing, busine...</td>\n",
       "      <td>Mid / not specified</td>\n",
       "      <td>2024-08-09 06:57:52.657002</td>\n",
       "    </tr>\n",
       "    <tr>\n",
       "      <th>4</th>\n",
       "      <td>3996210737</td>\n",
       "      <td>Data Analyst</td>\n",
       "      <td>NaN</td>\n",
       "      <td>[business]</td>\n",
       "      <td>Mid / not specified</td>\n",
       "      <td>2024-08-09 06:57:52.657002</td>\n",
       "    </tr>\n",
       "    <tr>\n",
       "      <th>...</th>\n",
       "      <td>...</td>\n",
       "      <td>...</td>\n",
       "      <td>...</td>\n",
       "      <td>...</td>\n",
       "      <td>...</td>\n",
       "      <td>...</td>\n",
       "    </tr>\n",
       "    <tr>\n",
       "      <th>85</th>\n",
       "      <td>3995319919</td>\n",
       "      <td>Data Scientist</td>\n",
       "      <td>NaN</td>\n",
       "      <td>[server, sql, data management, python, c, c++,...</td>\n",
       "      <td>Mid / not specified</td>\n",
       "      <td>2024-08-08 13:39:46.904090</td>\n",
       "    </tr>\n",
       "    <tr>\n",
       "      <th>86</th>\n",
       "      <td>3993667742</td>\n",
       "      <td>Data Scientist</td>\n",
       "      <td>NaN</td>\n",
       "      <td>[design, business, sql, data science, excel, a...</td>\n",
       "      <td>Mid / not specified</td>\n",
       "      <td>2024-08-08 13:39:46.904090</td>\n",
       "    </tr>\n",
       "    <tr>\n",
       "      <th>87</th>\n",
       "      <td>3995006000</td>\n",
       "      <td>Data Scientist</td>\n",
       "      <td>NaN</td>\n",
       "      <td>[server, sql, data management, python, c, c++,...</td>\n",
       "      <td>Mid / not specified</td>\n",
       "      <td>2024-08-08 13:39:46.904090</td>\n",
       "    </tr>\n",
       "    <tr>\n",
       "      <th>88</th>\n",
       "      <td>3993666695</td>\n",
       "      <td>Data Scientist</td>\n",
       "      <td>NaN</td>\n",
       "      <td>[natural language processing, play, sql, langu...</td>\n",
       "      <td>Senior</td>\n",
       "      <td>2024-08-08 13:39:46.904090</td>\n",
       "    </tr>\n",
       "    <tr>\n",
       "      <th>89</th>\n",
       "      <td>3993662810</td>\n",
       "      <td>Data Scientist</td>\n",
       "      <td>NaN</td>\n",
       "      <td>[matplotlib, play, business, pandas, data scie...</td>\n",
       "      <td>Senior</td>\n",
       "      <td>2024-08-08 13:39:46.904090</td>\n",
       "    </tr>\n",
       "  </tbody>\n",
       "</table>\n",
       "<p>90 rows × 6 columns</p>\n",
       "</div>"
      ],
      "text/plain": [
       "         jobid        job_type   pay  \\\n",
       "0   3996220170    Data Analyst   NaN   \n",
       "1   3996250713    Data Analyst   NaN   \n",
       "2   3994299447    Data Analyst  28.0   \n",
       "3   3996534267    Data Analyst   NaN   \n",
       "4   3996210737    Data Analyst   NaN   \n",
       "..         ...             ...   ...   \n",
       "85  3995319919  Data Scientist   NaN   \n",
       "86  3993667742  Data Scientist   NaN   \n",
       "87  3995006000  Data Scientist   NaN   \n",
       "88  3993666695  Data Scientist   NaN   \n",
       "89  3993662810  Data Scientist   NaN   \n",
       "\n",
       "                                               skills            seniority  \\\n",
       "0   [finance, sql, analytics, machine learning, lo...  Mid / not specified   \n",
       "1   [computer science, excel, exploratory data ana...               Junior   \n",
       "2   [sql, jira, looker, support, mobile, advertising]               Junior   \n",
       "3   [excel, specification, data processing, busine...  Mid / not specified   \n",
       "4                                          [business]  Mid / not specified   \n",
       "..                                                ...                  ...   \n",
       "85  [server, sql, data management, python, c, c++,...  Mid / not specified   \n",
       "86  [design, business, sql, data science, excel, a...  Mid / not specified   \n",
       "87  [server, sql, data management, python, c, c++,...  Mid / not specified   \n",
       "88  [natural language processing, play, sql, langu...               Senior   \n",
       "89  [matplotlib, play, business, pandas, data scie...               Senior   \n",
       "\n",
       "                         date  \n",
       "0  2024-08-09 06:57:52.657002  \n",
       "1  2024-08-09 06:57:52.657002  \n",
       "2  2024-08-09 06:57:52.657002  \n",
       "3  2024-08-09 06:57:52.657002  \n",
       "4  2024-08-09 06:57:52.657002  \n",
       "..                        ...  \n",
       "85 2024-08-08 13:39:46.904090  \n",
       "86 2024-08-08 13:39:46.904090  \n",
       "87 2024-08-08 13:39:46.904090  \n",
       "88 2024-08-08 13:39:46.904090  \n",
       "89 2024-08-08 13:39:46.904090  \n",
       "\n",
       "[90 rows x 6 columns]"
      ]
     },
     "execution_count": 44,
     "metadata": {},
     "output_type": "execute_result"
    }
   ],
   "source": [
    "import pandas as pd\n",
    "import gcsfs\n",
    "import os\n",
    "\n",
    "\n",
    "\n",
    "# Define the path to your GCS bucket and file\n",
    "file_path_gcp = \"gs://oslo-linkedin-dataengineer-jobs/transformed\"\n",
    "\n",
    "os.environ[\"GOOGLE_APPLICATION_CREDENTIALS\"] = r\"../service-account-details.json\" \n",
    "\n",
    "df = pd.read_parquet(file_path_gcp)\n",
    "df = df.replace({'seniority':{None:'Mid / not specified'}})\n",
    "\n",
    "df\n",
    "\n"
   ]
  },
  {
   "cell_type": "code",
   "execution_count": 64,
   "metadata": {},
   "outputs": [
    {
     "data": {
      "text/plain": [
       "skills\n",
       "business           60\n",
       "python             58\n",
       "sql                47\n",
       "data science       45\n",
       "support            41\n",
       "                   ..\n",
       "data validation     1\n",
       "mysql               1\n",
       "queue               1\n",
       "interaction         1\n",
       "peer to peer        1\n",
       "Name: count, Length: 149, dtype: int64"
      ]
     },
     "execution_count": 64,
     "metadata": {},
     "output_type": "execute_result"
    }
   ],
   "source": [
    "filtered_df = df.query('job_type == @df.job_type.unique().tolist()[0]')\n",
    "filtered_df = filtered_df.query('seniority == @df.seniority.unique().tolist()[0]')\n",
    "\n",
    "start_date = \"2023-02-01\"\n",
    "end_date = \"2024-12-01\"\n",
    "\n",
    "# Filter the DataFrame\n",
    "filtered_df = filtered_df[(filtered_df['date'] >= start_date) & (filtered_df['date'] <= end_date)]\n",
    "\n",
    "ls_skills = df.explode('skills')['skills'].tolist()\n",
    "filtered_df = filtered_df[filtered_df['skills'].map(lambda x: ls_skills[0] in x)]\n",
    "df.explode('skills')['skills'].value_counts()\n"
   ]
  },
  {
   "cell_type": "code",
   "execution_count": 86,
   "metadata": {},
   "outputs": [
    {
     "data": {
      "text/plain": [
       "False"
      ]
     },
     "execution_count": 86,
     "metadata": {},
     "output_type": "execute_result"
    }
   ],
   "source": [
    "from datetime import datetime\n",
    "from datetime import date\n",
    "df.date.max().date() < date.today()"
   ]
  },
  {
   "cell_type": "code",
   "execution_count": 60,
   "metadata": {},
   "outputs": [
    {
     "data": {
      "text/plain": [
       "[{'label': 'Data Analyst', 'value': 'Data Analyst'},\n",
       " {'label': 'Data Engineer', 'value': 'Data Engineer'},\n",
       " {'label': 'Data Scientist', 'value': 'Data Scientist'},\n",
       " {'label': 'Data%20Scientist', 'value': 'Data%20Scientist'},\n",
       " {'label': 'Data%20Engineer', 'value': 'Data%20Engineer'}]"
      ]
     },
     "execution_count": 60,
     "metadata": {},
     "output_type": "execute_result"
    }
   ],
   "source": [
    "[{'label': i, 'value': i} for i in df.job_type.unique().tolist()]\n",
    "        "
   ]
  },
  {
   "cell_type": "code",
   "execution_count": 61,
   "metadata": {},
   "outputs": [
    {
     "data": {
      "text/plain": [
       "[{'label': 'Mid / not specified', 'value': 'Mid / not specified'},\n",
       " {'label': 'Junior', 'value': 'Junior'},\n",
       " {'label': 'Senior', 'value': 'Senior'},\n",
       " {'label': 'Lead', 'value': 'Lead'},\n",
       " {'label': 'Manager', 'value': 'Manager'}]"
      ]
     },
     "execution_count": 61,
     "metadata": {},
     "output_type": "execute_result"
    }
   ],
   "source": [
    "[{'label': i, 'value': i}for i in df.seniority.unique().tolist()]"
   ]
  },
  {
   "cell_type": "code",
   "execution_count": 58,
   "metadata": {},
   "outputs": [
    {
     "data": {
      "text/plain": [
       "[datetime.date(2024, 8, 9)]"
      ]
     },
     "execution_count": 58,
     "metadata": {},
     "output_type": "execute_result"
    }
   ],
   "source": [
    "filtered_df['date'].dt.date.unique().tolist()"
   ]
  },
  {
   "cell_type": "code",
   "execution_count": 42,
   "metadata": {},
   "outputs": [
    {
     "name": "stdout",
     "output_type": "stream",
     "text": [
      "Coding Languages:\n",
      "   skills  count  percent\n",
      "0     sql      3       75\n",
      "1  python      1       25\n",
      "\n",
      "Cloud Skills:\n",
      "Empty DataFrame\n",
      "Columns: [skills, count, percent]\n",
      "Index: []\n",
      "job_type\n",
      "Data Analyst    100\n",
      "Name: proportion, dtype: int64\n"
     ]
    },
    {
     "data": {
      "text/html": [
       "<div>\n",
       "<style scoped>\n",
       "    .dataframe tbody tr th:only-of-type {\n",
       "        vertical-align: middle;\n",
       "    }\n",
       "\n",
       "    .dataframe tbody tr th {\n",
       "        vertical-align: top;\n",
       "    }\n",
       "\n",
       "    .dataframe thead th {\n",
       "        text-align: right;\n",
       "    }\n",
       "</style>\n",
       "<table border=\"1\" class=\"dataframe\">\n",
       "  <thead>\n",
       "    <tr style=\"text-align: right;\">\n",
       "      <th></th>\n",
       "      <th>count</th>\n",
       "      <th>percent</th>\n",
       "    </tr>\n",
       "    <tr>\n",
       "      <th>skills</th>\n",
       "      <th></th>\n",
       "      <th></th>\n",
       "    </tr>\n",
       "  </thead>\n",
       "  <tbody>\n",
       "    <tr>\n",
       "      <th>finance</th>\n",
       "      <td>4</td>\n",
       "      <td>100</td>\n",
       "    </tr>\n",
       "    <tr>\n",
       "      <th>analytics</th>\n",
       "      <td>4</td>\n",
       "      <td>100</td>\n",
       "    </tr>\n",
       "    <tr>\n",
       "      <th>business</th>\n",
       "      <td>4</td>\n",
       "      <td>100</td>\n",
       "    </tr>\n",
       "    <tr>\n",
       "      <th>support</th>\n",
       "      <td>4</td>\n",
       "      <td>100</td>\n",
       "    </tr>\n",
       "    <tr>\n",
       "      <th>sql</th>\n",
       "      <td>3</td>\n",
       "      <td>75</td>\n",
       "    </tr>\n",
       "    <tr>\n",
       "      <th>tableau</th>\n",
       "      <td>2</td>\n",
       "      <td>50</td>\n",
       "    </tr>\n",
       "    <tr>\n",
       "      <th>excel</th>\n",
       "      <td>2</td>\n",
       "      <td>50</td>\n",
       "    </tr>\n",
       "    <tr>\n",
       "      <th>play</th>\n",
       "      <td>2</td>\n",
       "      <td>50</td>\n",
       "    </tr>\n",
       "    <tr>\n",
       "      <th>collaboration</th>\n",
       "      <td>2</td>\n",
       "      <td>50</td>\n",
       "    </tr>\n",
       "    <tr>\n",
       "      <th>marketing</th>\n",
       "      <td>2</td>\n",
       "      <td>50</td>\n",
       "    </tr>\n",
       "    <tr>\n",
       "      <th>data management</th>\n",
       "      <td>2</td>\n",
       "      <td>50</td>\n",
       "    </tr>\n",
       "    <tr>\n",
       "      <th>machine learning</th>\n",
       "      <td>2</td>\n",
       "      <td>50</td>\n",
       "    </tr>\n",
       "    <tr>\n",
       "      <th>engineering</th>\n",
       "      <td>2</td>\n",
       "      <td>50</td>\n",
       "    </tr>\n",
       "    <tr>\n",
       "      <th>data science</th>\n",
       "      <td>1</td>\n",
       "      <td>25</td>\n",
       "    </tr>\n",
       "    <tr>\n",
       "      <th>data visualization</th>\n",
       "      <td>1</td>\n",
       "      <td>25</td>\n",
       "    </tr>\n",
       "    <tr>\n",
       "      <th>framework</th>\n",
       "      <td>1</td>\n",
       "      <td>25</td>\n",
       "    </tr>\n",
       "    <tr>\n",
       "      <th>business intelligence</th>\n",
       "      <td>1</td>\n",
       "      <td>25</td>\n",
       "    </tr>\n",
       "    <tr>\n",
       "      <th>design</th>\n",
       "      <td>1</td>\n",
       "      <td>25</td>\n",
       "    </tr>\n",
       "    <tr>\n",
       "      <th>forums</th>\n",
       "      <td>1</td>\n",
       "      <td>25</td>\n",
       "    </tr>\n",
       "    <tr>\n",
       "      <th>ai</th>\n",
       "      <td>1</td>\n",
       "      <td>25</td>\n",
       "    </tr>\n",
       "    <tr>\n",
       "      <th>big data</th>\n",
       "      <td>1</td>\n",
       "      <td>25</td>\n",
       "    </tr>\n",
       "    <tr>\n",
       "      <th>looker</th>\n",
       "      <td>1</td>\n",
       "      <td>25</td>\n",
       "    </tr>\n",
       "    <tr>\n",
       "      <th>artificial intelligence</th>\n",
       "      <td>1</td>\n",
       "      <td>25</td>\n",
       "    </tr>\n",
       "    <tr>\n",
       "      <th>data quality</th>\n",
       "      <td>1</td>\n",
       "      <td>25</td>\n",
       "    </tr>\n",
       "    <tr>\n",
       "      <th>google analytics</th>\n",
       "      <td>1</td>\n",
       "      <td>25</td>\n",
       "    </tr>\n",
       "    <tr>\n",
       "      <th>data analysis</th>\n",
       "      <td>1</td>\n",
       "      <td>25</td>\n",
       "    </tr>\n",
       "    <tr>\n",
       "      <th>dashboards</th>\n",
       "      <td>1</td>\n",
       "      <td>25</td>\n",
       "    </tr>\n",
       "    <tr>\n",
       "      <th>knowledge base</th>\n",
       "      <td>1</td>\n",
       "      <td>25</td>\n",
       "    </tr>\n",
       "    <tr>\n",
       "      <th>ambiguity</th>\n",
       "      <td>1</td>\n",
       "      <td>25</td>\n",
       "    </tr>\n",
       "    <tr>\n",
       "      <th>scalability</th>\n",
       "      <td>1</td>\n",
       "      <td>25</td>\n",
       "    </tr>\n",
       "    <tr>\n",
       "      <th>python</th>\n",
       "      <td>1</td>\n",
       "      <td>25</td>\n",
       "    </tr>\n",
       "    <tr>\n",
       "      <th>financial system</th>\n",
       "      <td>1</td>\n",
       "      <td>25</td>\n",
       "    </tr>\n",
       "  </tbody>\n",
       "</table>\n",
       "</div>"
      ],
      "text/plain": [
       "                         count  percent\n",
       "skills                                 \n",
       "finance                      4      100\n",
       "analytics                    4      100\n",
       "business                     4      100\n",
       "support                      4      100\n",
       "sql                          3       75\n",
       "tableau                      2       50\n",
       "excel                        2       50\n",
       "play                         2       50\n",
       "collaboration                2       50\n",
       "marketing                    2       50\n",
       "data management              2       50\n",
       "machine learning             2       50\n",
       "engineering                  2       50\n",
       "data science                 1       25\n",
       "data visualization           1       25\n",
       "framework                    1       25\n",
       "business intelligence        1       25\n",
       "design                       1       25\n",
       "forums                       1       25\n",
       "ai                           1       25\n",
       "big data                     1       25\n",
       "looker                       1       25\n",
       "artificial intelligence      1       25\n",
       "data quality                 1       25\n",
       "google analytics             1       25\n",
       "data analysis                1       25\n",
       "dashboards                   1       25\n",
       "knowledge base               1       25\n",
       "ambiguity                    1       25\n",
       "scalability                  1       25\n",
       "python                       1       25\n",
       "financial system             1       25"
      ]
     },
     "execution_count": 42,
     "metadata": {},
     "output_type": "execute_result"
    }
   ],
   "source": [
    "# import polars as pl\n",
    "\n",
    "coding_languages = [\n",
    "    'python', 'javascript', 'java', 'c++', 'c#', 'php', 'ruby', 'swift', 'kotlin', 'typescript',\n",
    "    'go', 'rust', 'sql', 'r', 'html', 'css', 'bash', 'perl', 'objective-c', 'scala',\n",
    "    'lua', 'haskell', 'matlab', 'dart', 'visual basic .net', 'assembly language', 'f#', 'groovy', 'elixir', 'clojure',\n",
    "    'erlang', 'julia', 'vbscript', 'lisp', 'prolog', 'scheme', 'ada', 'fortran', 'cobol', 'pascal',\n",
    "    'racket', 'scratch', 'tcl', 'smalltalk', 'actionscript', 'awk', 'ocaml', 'pl/sql', 'sas', 'logo'\n",
    "]\n",
    "cloud_skills = {\n",
    "    'aws': 'amazon web services',\n",
    "    'gcp': 'google cloud platform',\n",
    "    'azure': 'microsoft azure',\n",
    "    'ibm': 'ibm cloud',\n",
    "    'oci': 'oracle cloud',\n",
    "    'sf': 'salesforce',\n",
    "    'sap': 'sap cloud',\n",
    "    'do': 'digitalocean'\n",
    "}\n",
    "\n",
    "# share job_type of filtered df\n",
    "job_type_share = (filtered_df.job_type.value_counts(normalize=True) * 100).astype(int)\n",
    "\n",
    "# Explode the 'skills' column and calculate value counts\n",
    "skills_counts = pd.DataFrame(filtered_df.explode('skills')['skills'].value_counts())\n",
    "\n",
    "# Calculate the total number of skills observations\n",
    "total_skills = len(filtered_df)\n",
    "\n",
    "skills_counts = pd.DataFrame(filtered_df.explode('skills')['skills'].value_counts())\n",
    "\n",
    "skills_counts['percent'] = (((skills_counts['count'] / total_skills) * 100).astype(int))\n",
    "\n",
    "# Filter coding languages and cloud skills\n",
    "df_coding_languages = skills_counts[skills_counts.index.isin(coding_languages)].reset_index()\n",
    "df_cloud_skills = skills_counts[skills_counts.index.isin(list(cloud_skills.values())+list((cloud_skills.keys())))]\n",
    "\n",
    "# Replace cloud skill abbreviations with full names\n",
    "df_cloud_skills = df_cloud_skills.rename(index=cloud_skills).reset_index()\n",
    "\n",
    "# Display the dataframes\n",
    "print(\"Coding Languages:\")\n",
    "print(df_coding_languages)\n",
    "print(\"\\nCloud Skills:\")\n",
    "print(df_cloud_skills)\n",
    "print(job_type_share)\n",
    "skills_counts\n",
    "\n",
    "\n"
   ]
  },
  {
   "cell_type": "code",
   "execution_count": null,
   "metadata": {},
   "outputs": [],
   "source": [
    "## Instead of count use share of jobs with skill\n",
    "\n",
    "# also add one bar for job type"
   ]
  },
  {
   "cell_type": "code",
   "execution_count": null,
   "metadata": {},
   "outputs": [],
   "source": [
    "fig = px.bar(df_coding_languages, x='skills', y='percent', title='Coding skills', labels={'skills': 'Skills', 'percent': 'Percentage of job applications'})\n",
    "fig.update_yaxes(range=[0, 100])\n",
    "fig.show()"
   ]
  },
  {
   "cell_type": "code",
   "execution_count": 88,
   "metadata": {},
   "outputs": [
    {
     "data": {
      "text/html": [
       "<div>\n",
       "<style scoped>\n",
       "    .dataframe tbody tr th:only-of-type {\n",
       "        vertical-align: middle;\n",
       "    }\n",
       "\n",
       "    .dataframe tbody tr th {\n",
       "        vertical-align: top;\n",
       "    }\n",
       "\n",
       "    .dataframe thead th {\n",
       "        text-align: right;\n",
       "    }\n",
       "</style>\n",
       "<table border=\"1\" class=\"dataframe\">\n",
       "  <thead>\n",
       "    <tr style=\"text-align: right;\">\n",
       "      <th></th>\n",
       "      <th>job_type</th>\n",
       "      <th>proportion</th>\n",
       "    </tr>\n",
       "  </thead>\n",
       "  <tbody>\n",
       "    <tr>\n",
       "      <th>0</th>\n",
       "      <td>Data Analyst</td>\n",
       "      <td>100</td>\n",
       "    </tr>\n",
       "  </tbody>\n",
       "</table>\n",
       "</div>"
      ],
      "text/plain": [
       "       job_type  proportion\n",
       "0  Data Analyst         100"
      ]
     },
     "execution_count": 88,
     "metadata": {},
     "output_type": "execute_result"
    }
   ],
   "source": [
    "job_type_share.reset_index()\n"
   ]
  },
  {
   "cell_type": "code",
   "execution_count": 96,
   "metadata": {},
   "outputs": [
    {
     "data": {
      "application/vnd.plotly.v1+json": {
       "config": {
        "plotlyServerURL": "https://plot.ly"
       },
       "data": [
        {
         "alignmentgroup": "True",
         "hovertemplate": "job_type=%{x}<br>proportion=%{y}<extra></extra>",
         "legendgroup": "",
         "marker": {
          "color": "#636efa",
          "pattern": {
           "shape": ""
          }
         },
         "name": "",
         "offsetgroup": "",
         "orientation": "v",
         "showlegend": false,
         "textposition": "auto",
         "type": "bar",
         "x": [
          "Data Analyst"
         ],
         "xaxis": "x",
         "y": [
          100
         ],
         "yaxis": "y"
        }
       ],
       "layout": {
        "barmode": "relative",
        "legend": {
         "tracegroupgap": 0
        },
        "template": {
         "data": {
          "bar": [
           {
            "error_x": {
             "color": "#2a3f5f"
            },
            "error_y": {
             "color": "#2a3f5f"
            },
            "marker": {
             "line": {
              "color": "#E5ECF6",
              "width": 0.5
             },
             "pattern": {
              "fillmode": "overlay",
              "size": 10,
              "solidity": 0.2
             }
            },
            "type": "bar"
           }
          ],
          "barpolar": [
           {
            "marker": {
             "line": {
              "color": "#E5ECF6",
              "width": 0.5
             },
             "pattern": {
              "fillmode": "overlay",
              "size": 10,
              "solidity": 0.2
             }
            },
            "type": "barpolar"
           }
          ],
          "carpet": [
           {
            "aaxis": {
             "endlinecolor": "#2a3f5f",
             "gridcolor": "white",
             "linecolor": "white",
             "minorgridcolor": "white",
             "startlinecolor": "#2a3f5f"
            },
            "baxis": {
             "endlinecolor": "#2a3f5f",
             "gridcolor": "white",
             "linecolor": "white",
             "minorgridcolor": "white",
             "startlinecolor": "#2a3f5f"
            },
            "type": "carpet"
           }
          ],
          "choropleth": [
           {
            "colorbar": {
             "outlinewidth": 0,
             "ticks": ""
            },
            "type": "choropleth"
           }
          ],
          "contour": [
           {
            "colorbar": {
             "outlinewidth": 0,
             "ticks": ""
            },
            "colorscale": [
             [
              0,
              "#0d0887"
             ],
             [
              0.1111111111111111,
              "#46039f"
             ],
             [
              0.2222222222222222,
              "#7201a8"
             ],
             [
              0.3333333333333333,
              "#9c179e"
             ],
             [
              0.4444444444444444,
              "#bd3786"
             ],
             [
              0.5555555555555556,
              "#d8576b"
             ],
             [
              0.6666666666666666,
              "#ed7953"
             ],
             [
              0.7777777777777778,
              "#fb9f3a"
             ],
             [
              0.8888888888888888,
              "#fdca26"
             ],
             [
              1,
              "#f0f921"
             ]
            ],
            "type": "contour"
           }
          ],
          "contourcarpet": [
           {
            "colorbar": {
             "outlinewidth": 0,
             "ticks": ""
            },
            "type": "contourcarpet"
           }
          ],
          "heatmap": [
           {
            "colorbar": {
             "outlinewidth": 0,
             "ticks": ""
            },
            "colorscale": [
             [
              0,
              "#0d0887"
             ],
             [
              0.1111111111111111,
              "#46039f"
             ],
             [
              0.2222222222222222,
              "#7201a8"
             ],
             [
              0.3333333333333333,
              "#9c179e"
             ],
             [
              0.4444444444444444,
              "#bd3786"
             ],
             [
              0.5555555555555556,
              "#d8576b"
             ],
             [
              0.6666666666666666,
              "#ed7953"
             ],
             [
              0.7777777777777778,
              "#fb9f3a"
             ],
             [
              0.8888888888888888,
              "#fdca26"
             ],
             [
              1,
              "#f0f921"
             ]
            ],
            "type": "heatmap"
           }
          ],
          "heatmapgl": [
           {
            "colorbar": {
             "outlinewidth": 0,
             "ticks": ""
            },
            "colorscale": [
             [
              0,
              "#0d0887"
             ],
             [
              0.1111111111111111,
              "#46039f"
             ],
             [
              0.2222222222222222,
              "#7201a8"
             ],
             [
              0.3333333333333333,
              "#9c179e"
             ],
             [
              0.4444444444444444,
              "#bd3786"
             ],
             [
              0.5555555555555556,
              "#d8576b"
             ],
             [
              0.6666666666666666,
              "#ed7953"
             ],
             [
              0.7777777777777778,
              "#fb9f3a"
             ],
             [
              0.8888888888888888,
              "#fdca26"
             ],
             [
              1,
              "#f0f921"
             ]
            ],
            "type": "heatmapgl"
           }
          ],
          "histogram": [
           {
            "marker": {
             "pattern": {
              "fillmode": "overlay",
              "size": 10,
              "solidity": 0.2
             }
            },
            "type": "histogram"
           }
          ],
          "histogram2d": [
           {
            "colorbar": {
             "outlinewidth": 0,
             "ticks": ""
            },
            "colorscale": [
             [
              0,
              "#0d0887"
             ],
             [
              0.1111111111111111,
              "#46039f"
             ],
             [
              0.2222222222222222,
              "#7201a8"
             ],
             [
              0.3333333333333333,
              "#9c179e"
             ],
             [
              0.4444444444444444,
              "#bd3786"
             ],
             [
              0.5555555555555556,
              "#d8576b"
             ],
             [
              0.6666666666666666,
              "#ed7953"
             ],
             [
              0.7777777777777778,
              "#fb9f3a"
             ],
             [
              0.8888888888888888,
              "#fdca26"
             ],
             [
              1,
              "#f0f921"
             ]
            ],
            "type": "histogram2d"
           }
          ],
          "histogram2dcontour": [
           {
            "colorbar": {
             "outlinewidth": 0,
             "ticks": ""
            },
            "colorscale": [
             [
              0,
              "#0d0887"
             ],
             [
              0.1111111111111111,
              "#46039f"
             ],
             [
              0.2222222222222222,
              "#7201a8"
             ],
             [
              0.3333333333333333,
              "#9c179e"
             ],
             [
              0.4444444444444444,
              "#bd3786"
             ],
             [
              0.5555555555555556,
              "#d8576b"
             ],
             [
              0.6666666666666666,
              "#ed7953"
             ],
             [
              0.7777777777777778,
              "#fb9f3a"
             ],
             [
              0.8888888888888888,
              "#fdca26"
             ],
             [
              1,
              "#f0f921"
             ]
            ],
            "type": "histogram2dcontour"
           }
          ],
          "mesh3d": [
           {
            "colorbar": {
             "outlinewidth": 0,
             "ticks": ""
            },
            "type": "mesh3d"
           }
          ],
          "parcoords": [
           {
            "line": {
             "colorbar": {
              "outlinewidth": 0,
              "ticks": ""
             }
            },
            "type": "parcoords"
           }
          ],
          "pie": [
           {
            "automargin": true,
            "type": "pie"
           }
          ],
          "scatter": [
           {
            "fillpattern": {
             "fillmode": "overlay",
             "size": 10,
             "solidity": 0.2
            },
            "type": "scatter"
           }
          ],
          "scatter3d": [
           {
            "line": {
             "colorbar": {
              "outlinewidth": 0,
              "ticks": ""
             }
            },
            "marker": {
             "colorbar": {
              "outlinewidth": 0,
              "ticks": ""
             }
            },
            "type": "scatter3d"
           }
          ],
          "scattercarpet": [
           {
            "marker": {
             "colorbar": {
              "outlinewidth": 0,
              "ticks": ""
             }
            },
            "type": "scattercarpet"
           }
          ],
          "scattergeo": [
           {
            "marker": {
             "colorbar": {
              "outlinewidth": 0,
              "ticks": ""
             }
            },
            "type": "scattergeo"
           }
          ],
          "scattergl": [
           {
            "marker": {
             "colorbar": {
              "outlinewidth": 0,
              "ticks": ""
             }
            },
            "type": "scattergl"
           }
          ],
          "scattermapbox": [
           {
            "marker": {
             "colorbar": {
              "outlinewidth": 0,
              "ticks": ""
             }
            },
            "type": "scattermapbox"
           }
          ],
          "scatterpolar": [
           {
            "marker": {
             "colorbar": {
              "outlinewidth": 0,
              "ticks": ""
             }
            },
            "type": "scatterpolar"
           }
          ],
          "scatterpolargl": [
           {
            "marker": {
             "colorbar": {
              "outlinewidth": 0,
              "ticks": ""
             }
            },
            "type": "scatterpolargl"
           }
          ],
          "scatterternary": [
           {
            "marker": {
             "colorbar": {
              "outlinewidth": 0,
              "ticks": ""
             }
            },
            "type": "scatterternary"
           }
          ],
          "surface": [
           {
            "colorbar": {
             "outlinewidth": 0,
             "ticks": ""
            },
            "colorscale": [
             [
              0,
              "#0d0887"
             ],
             [
              0.1111111111111111,
              "#46039f"
             ],
             [
              0.2222222222222222,
              "#7201a8"
             ],
             [
              0.3333333333333333,
              "#9c179e"
             ],
             [
              0.4444444444444444,
              "#bd3786"
             ],
             [
              0.5555555555555556,
              "#d8576b"
             ],
             [
              0.6666666666666666,
              "#ed7953"
             ],
             [
              0.7777777777777778,
              "#fb9f3a"
             ],
             [
              0.8888888888888888,
              "#fdca26"
             ],
             [
              1,
              "#f0f921"
             ]
            ],
            "type": "surface"
           }
          ],
          "table": [
           {
            "cells": {
             "fill": {
              "color": "#EBF0F8"
             },
             "line": {
              "color": "white"
             }
            },
            "header": {
             "fill": {
              "color": "#C8D4E3"
             },
             "line": {
              "color": "white"
             }
            },
            "type": "table"
           }
          ]
         },
         "layout": {
          "annotationdefaults": {
           "arrowcolor": "#2a3f5f",
           "arrowhead": 0,
           "arrowwidth": 1
          },
          "autotypenumbers": "strict",
          "coloraxis": {
           "colorbar": {
            "outlinewidth": 0,
            "ticks": ""
           }
          },
          "colorscale": {
           "diverging": [
            [
             0,
             "#8e0152"
            ],
            [
             0.1,
             "#c51b7d"
            ],
            [
             0.2,
             "#de77ae"
            ],
            [
             0.3,
             "#f1b6da"
            ],
            [
             0.4,
             "#fde0ef"
            ],
            [
             0.5,
             "#f7f7f7"
            ],
            [
             0.6,
             "#e6f5d0"
            ],
            [
             0.7,
             "#b8e186"
            ],
            [
             0.8,
             "#7fbc41"
            ],
            [
             0.9,
             "#4d9221"
            ],
            [
             1,
             "#276419"
            ]
           ],
           "sequential": [
            [
             0,
             "#0d0887"
            ],
            [
             0.1111111111111111,
             "#46039f"
            ],
            [
             0.2222222222222222,
             "#7201a8"
            ],
            [
             0.3333333333333333,
             "#9c179e"
            ],
            [
             0.4444444444444444,
             "#bd3786"
            ],
            [
             0.5555555555555556,
             "#d8576b"
            ],
            [
             0.6666666666666666,
             "#ed7953"
            ],
            [
             0.7777777777777778,
             "#fb9f3a"
            ],
            [
             0.8888888888888888,
             "#fdca26"
            ],
            [
             1,
             "#f0f921"
            ]
           ],
           "sequentialminus": [
            [
             0,
             "#0d0887"
            ],
            [
             0.1111111111111111,
             "#46039f"
            ],
            [
             0.2222222222222222,
             "#7201a8"
            ],
            [
             0.3333333333333333,
             "#9c179e"
            ],
            [
             0.4444444444444444,
             "#bd3786"
            ],
            [
             0.5555555555555556,
             "#d8576b"
            ],
            [
             0.6666666666666666,
             "#ed7953"
            ],
            [
             0.7777777777777778,
             "#fb9f3a"
            ],
            [
             0.8888888888888888,
             "#fdca26"
            ],
            [
             1,
             "#f0f921"
            ]
           ]
          },
          "colorway": [
           "#636efa",
           "#EF553B",
           "#00cc96",
           "#ab63fa",
           "#FFA15A",
           "#19d3f3",
           "#FF6692",
           "#B6E880",
           "#FF97FF",
           "#FECB52"
          ],
          "font": {
           "color": "#2a3f5f"
          },
          "geo": {
           "bgcolor": "white",
           "lakecolor": "white",
           "landcolor": "#E5ECF6",
           "showlakes": true,
           "showland": true,
           "subunitcolor": "white"
          },
          "hoverlabel": {
           "align": "left"
          },
          "hovermode": "closest",
          "mapbox": {
           "style": "light"
          },
          "paper_bgcolor": "white",
          "plot_bgcolor": "#E5ECF6",
          "polar": {
           "angularaxis": {
            "gridcolor": "white",
            "linecolor": "white",
            "ticks": ""
           },
           "bgcolor": "#E5ECF6",
           "radialaxis": {
            "gridcolor": "white",
            "linecolor": "white",
            "ticks": ""
           }
          },
          "scene": {
           "xaxis": {
            "backgroundcolor": "#E5ECF6",
            "gridcolor": "white",
            "gridwidth": 2,
            "linecolor": "white",
            "showbackground": true,
            "ticks": "",
            "zerolinecolor": "white"
           },
           "yaxis": {
            "backgroundcolor": "#E5ECF6",
            "gridcolor": "white",
            "gridwidth": 2,
            "linecolor": "white",
            "showbackground": true,
            "ticks": "",
            "zerolinecolor": "white"
           },
           "zaxis": {
            "backgroundcolor": "#E5ECF6",
            "gridcolor": "white",
            "gridwidth": 2,
            "linecolor": "white",
            "showbackground": true,
            "ticks": "",
            "zerolinecolor": "white"
           }
          },
          "shapedefaults": {
           "line": {
            "color": "#2a3f5f"
           }
          },
          "ternary": {
           "aaxis": {
            "gridcolor": "white",
            "linecolor": "white",
            "ticks": ""
           },
           "baxis": {
            "gridcolor": "white",
            "linecolor": "white",
            "ticks": ""
           },
           "bgcolor": "#E5ECF6",
           "caxis": {
            "gridcolor": "white",
            "linecolor": "white",
            "ticks": ""
           }
          },
          "title": {
           "x": 0.05
          },
          "xaxis": {
           "automargin": true,
           "gridcolor": "white",
           "linecolor": "white",
           "ticks": "",
           "title": {
            "standoff": 15
           },
           "zerolinecolor": "white",
           "zerolinewidth": 2
          },
          "yaxis": {
           "automargin": true,
           "gridcolor": "white",
           "linecolor": "white",
           "ticks": "",
           "title": {
            "standoff": 15
           },
           "zerolinecolor": "white",
           "zerolinewidth": 2
          }
         }
        },
        "title": {
         "text": "Coding skills"
        },
        "xaxis": {
         "anchor": "y",
         "domain": [
          0,
          1
         ],
         "title": {
          "text": "job_type"
         }
        },
        "yaxis": {
         "anchor": "x",
         "domain": [
          0,
          1
         ],
         "range": [
          0,
          100
         ],
         "title": {
          "text": "proportion"
         }
        }
       }
      }
     },
     "metadata": {},
     "output_type": "display_data"
    }
   ],
   "source": [
    "import plotly\n",
    "import plotly.express as px\n",
    "\n",
    "\n",
    "fig = px.bar(job_type_share.reset_index(), x='job_type', y='proportion', title='Coding skills', labels={'skills': 'Skills', 'percent': 'Percentage of job applications'})\n",
    "fig.update_yaxes(range=[0, 100])\n",
    "fig.show()"
   ]
  },
  {
   "cell_type": "code",
   "execution_count": 39,
   "metadata": {},
   "outputs": [
    {
     "data": {
      "application/vnd.plotly.v1+json": {
       "config": {
        "plotlyServerURL": "https://plot.ly"
       },
       "data": [
        {
         "alignmentgroup": "True",
         "hovertemplate": "Skills=%{x}<br>Percentage of job applications=%{y}<extra></extra>",
         "legendgroup": "",
         "marker": {
          "color": "#636efa",
          "pattern": {
           "shape": ""
          }
         },
         "name": "",
         "offsetgroup": "",
         "orientation": "v",
         "showlegend": false,
         "textposition": "auto",
         "type": "bar",
         "x": [],
         "xaxis": "x",
         "y": [],
         "yaxis": "y"
        }
       ],
       "layout": {
        "barmode": "relative",
        "legend": {
         "tracegroupgap": 0
        },
        "template": {
         "data": {
          "bar": [
           {
            "error_x": {
             "color": "#2a3f5f"
            },
            "error_y": {
             "color": "#2a3f5f"
            },
            "marker": {
             "line": {
              "color": "#E5ECF6",
              "width": 0.5
             },
             "pattern": {
              "fillmode": "overlay",
              "size": 10,
              "solidity": 0.2
             }
            },
            "type": "bar"
           }
          ],
          "barpolar": [
           {
            "marker": {
             "line": {
              "color": "#E5ECF6",
              "width": 0.5
             },
             "pattern": {
              "fillmode": "overlay",
              "size": 10,
              "solidity": 0.2
             }
            },
            "type": "barpolar"
           }
          ],
          "carpet": [
           {
            "aaxis": {
             "endlinecolor": "#2a3f5f",
             "gridcolor": "white",
             "linecolor": "white",
             "minorgridcolor": "white",
             "startlinecolor": "#2a3f5f"
            },
            "baxis": {
             "endlinecolor": "#2a3f5f",
             "gridcolor": "white",
             "linecolor": "white",
             "minorgridcolor": "white",
             "startlinecolor": "#2a3f5f"
            },
            "type": "carpet"
           }
          ],
          "choropleth": [
           {
            "colorbar": {
             "outlinewidth": 0,
             "ticks": ""
            },
            "type": "choropleth"
           }
          ],
          "contour": [
           {
            "colorbar": {
             "outlinewidth": 0,
             "ticks": ""
            },
            "colorscale": [
             [
              0,
              "#0d0887"
             ],
             [
              0.1111111111111111,
              "#46039f"
             ],
             [
              0.2222222222222222,
              "#7201a8"
             ],
             [
              0.3333333333333333,
              "#9c179e"
             ],
             [
              0.4444444444444444,
              "#bd3786"
             ],
             [
              0.5555555555555556,
              "#d8576b"
             ],
             [
              0.6666666666666666,
              "#ed7953"
             ],
             [
              0.7777777777777778,
              "#fb9f3a"
             ],
             [
              0.8888888888888888,
              "#fdca26"
             ],
             [
              1,
              "#f0f921"
             ]
            ],
            "type": "contour"
           }
          ],
          "contourcarpet": [
           {
            "colorbar": {
             "outlinewidth": 0,
             "ticks": ""
            },
            "type": "contourcarpet"
           }
          ],
          "heatmap": [
           {
            "colorbar": {
             "outlinewidth": 0,
             "ticks": ""
            },
            "colorscale": [
             [
              0,
              "#0d0887"
             ],
             [
              0.1111111111111111,
              "#46039f"
             ],
             [
              0.2222222222222222,
              "#7201a8"
             ],
             [
              0.3333333333333333,
              "#9c179e"
             ],
             [
              0.4444444444444444,
              "#bd3786"
             ],
             [
              0.5555555555555556,
              "#d8576b"
             ],
             [
              0.6666666666666666,
              "#ed7953"
             ],
             [
              0.7777777777777778,
              "#fb9f3a"
             ],
             [
              0.8888888888888888,
              "#fdca26"
             ],
             [
              1,
              "#f0f921"
             ]
            ],
            "type": "heatmap"
           }
          ],
          "heatmapgl": [
           {
            "colorbar": {
             "outlinewidth": 0,
             "ticks": ""
            },
            "colorscale": [
             [
              0,
              "#0d0887"
             ],
             [
              0.1111111111111111,
              "#46039f"
             ],
             [
              0.2222222222222222,
              "#7201a8"
             ],
             [
              0.3333333333333333,
              "#9c179e"
             ],
             [
              0.4444444444444444,
              "#bd3786"
             ],
             [
              0.5555555555555556,
              "#d8576b"
             ],
             [
              0.6666666666666666,
              "#ed7953"
             ],
             [
              0.7777777777777778,
              "#fb9f3a"
             ],
             [
              0.8888888888888888,
              "#fdca26"
             ],
             [
              1,
              "#f0f921"
             ]
            ],
            "type": "heatmapgl"
           }
          ],
          "histogram": [
           {
            "marker": {
             "pattern": {
              "fillmode": "overlay",
              "size": 10,
              "solidity": 0.2
             }
            },
            "type": "histogram"
           }
          ],
          "histogram2d": [
           {
            "colorbar": {
             "outlinewidth": 0,
             "ticks": ""
            },
            "colorscale": [
             [
              0,
              "#0d0887"
             ],
             [
              0.1111111111111111,
              "#46039f"
             ],
             [
              0.2222222222222222,
              "#7201a8"
             ],
             [
              0.3333333333333333,
              "#9c179e"
             ],
             [
              0.4444444444444444,
              "#bd3786"
             ],
             [
              0.5555555555555556,
              "#d8576b"
             ],
             [
              0.6666666666666666,
              "#ed7953"
             ],
             [
              0.7777777777777778,
              "#fb9f3a"
             ],
             [
              0.8888888888888888,
              "#fdca26"
             ],
             [
              1,
              "#f0f921"
             ]
            ],
            "type": "histogram2d"
           }
          ],
          "histogram2dcontour": [
           {
            "colorbar": {
             "outlinewidth": 0,
             "ticks": ""
            },
            "colorscale": [
             [
              0,
              "#0d0887"
             ],
             [
              0.1111111111111111,
              "#46039f"
             ],
             [
              0.2222222222222222,
              "#7201a8"
             ],
             [
              0.3333333333333333,
              "#9c179e"
             ],
             [
              0.4444444444444444,
              "#bd3786"
             ],
             [
              0.5555555555555556,
              "#d8576b"
             ],
             [
              0.6666666666666666,
              "#ed7953"
             ],
             [
              0.7777777777777778,
              "#fb9f3a"
             ],
             [
              0.8888888888888888,
              "#fdca26"
             ],
             [
              1,
              "#f0f921"
             ]
            ],
            "type": "histogram2dcontour"
           }
          ],
          "mesh3d": [
           {
            "colorbar": {
             "outlinewidth": 0,
             "ticks": ""
            },
            "type": "mesh3d"
           }
          ],
          "parcoords": [
           {
            "line": {
             "colorbar": {
              "outlinewidth": 0,
              "ticks": ""
             }
            },
            "type": "parcoords"
           }
          ],
          "pie": [
           {
            "automargin": true,
            "type": "pie"
           }
          ],
          "scatter": [
           {
            "fillpattern": {
             "fillmode": "overlay",
             "size": 10,
             "solidity": 0.2
            },
            "type": "scatter"
           }
          ],
          "scatter3d": [
           {
            "line": {
             "colorbar": {
              "outlinewidth": 0,
              "ticks": ""
             }
            },
            "marker": {
             "colorbar": {
              "outlinewidth": 0,
              "ticks": ""
             }
            },
            "type": "scatter3d"
           }
          ],
          "scattercarpet": [
           {
            "marker": {
             "colorbar": {
              "outlinewidth": 0,
              "ticks": ""
             }
            },
            "type": "scattercarpet"
           }
          ],
          "scattergeo": [
           {
            "marker": {
             "colorbar": {
              "outlinewidth": 0,
              "ticks": ""
             }
            },
            "type": "scattergeo"
           }
          ],
          "scattergl": [
           {
            "marker": {
             "colorbar": {
              "outlinewidth": 0,
              "ticks": ""
             }
            },
            "type": "scattergl"
           }
          ],
          "scattermapbox": [
           {
            "marker": {
             "colorbar": {
              "outlinewidth": 0,
              "ticks": ""
             }
            },
            "type": "scattermapbox"
           }
          ],
          "scatterpolar": [
           {
            "marker": {
             "colorbar": {
              "outlinewidth": 0,
              "ticks": ""
             }
            },
            "type": "scatterpolar"
           }
          ],
          "scatterpolargl": [
           {
            "marker": {
             "colorbar": {
              "outlinewidth": 0,
              "ticks": ""
             }
            },
            "type": "scatterpolargl"
           }
          ],
          "scatterternary": [
           {
            "marker": {
             "colorbar": {
              "outlinewidth": 0,
              "ticks": ""
             }
            },
            "type": "scatterternary"
           }
          ],
          "surface": [
           {
            "colorbar": {
             "outlinewidth": 0,
             "ticks": ""
            },
            "colorscale": [
             [
              0,
              "#0d0887"
             ],
             [
              0.1111111111111111,
              "#46039f"
             ],
             [
              0.2222222222222222,
              "#7201a8"
             ],
             [
              0.3333333333333333,
              "#9c179e"
             ],
             [
              0.4444444444444444,
              "#bd3786"
             ],
             [
              0.5555555555555556,
              "#d8576b"
             ],
             [
              0.6666666666666666,
              "#ed7953"
             ],
             [
              0.7777777777777778,
              "#fb9f3a"
             ],
             [
              0.8888888888888888,
              "#fdca26"
             ],
             [
              1,
              "#f0f921"
             ]
            ],
            "type": "surface"
           }
          ],
          "table": [
           {
            "cells": {
             "fill": {
              "color": "#EBF0F8"
             },
             "line": {
              "color": "white"
             }
            },
            "header": {
             "fill": {
              "color": "#C8D4E3"
             },
             "line": {
              "color": "white"
             }
            },
            "type": "table"
           }
          ]
         },
         "layout": {
          "annotationdefaults": {
           "arrowcolor": "#2a3f5f",
           "arrowhead": 0,
           "arrowwidth": 1
          },
          "autotypenumbers": "strict",
          "coloraxis": {
           "colorbar": {
            "outlinewidth": 0,
            "ticks": ""
           }
          },
          "colorscale": {
           "diverging": [
            [
             0,
             "#8e0152"
            ],
            [
             0.1,
             "#c51b7d"
            ],
            [
             0.2,
             "#de77ae"
            ],
            [
             0.3,
             "#f1b6da"
            ],
            [
             0.4,
             "#fde0ef"
            ],
            [
             0.5,
             "#f7f7f7"
            ],
            [
             0.6,
             "#e6f5d0"
            ],
            [
             0.7,
             "#b8e186"
            ],
            [
             0.8,
             "#7fbc41"
            ],
            [
             0.9,
             "#4d9221"
            ],
            [
             1,
             "#276419"
            ]
           ],
           "sequential": [
            [
             0,
             "#0d0887"
            ],
            [
             0.1111111111111111,
             "#46039f"
            ],
            [
             0.2222222222222222,
             "#7201a8"
            ],
            [
             0.3333333333333333,
             "#9c179e"
            ],
            [
             0.4444444444444444,
             "#bd3786"
            ],
            [
             0.5555555555555556,
             "#d8576b"
            ],
            [
             0.6666666666666666,
             "#ed7953"
            ],
            [
             0.7777777777777778,
             "#fb9f3a"
            ],
            [
             0.8888888888888888,
             "#fdca26"
            ],
            [
             1,
             "#f0f921"
            ]
           ],
           "sequentialminus": [
            [
             0,
             "#0d0887"
            ],
            [
             0.1111111111111111,
             "#46039f"
            ],
            [
             0.2222222222222222,
             "#7201a8"
            ],
            [
             0.3333333333333333,
             "#9c179e"
            ],
            [
             0.4444444444444444,
             "#bd3786"
            ],
            [
             0.5555555555555556,
             "#d8576b"
            ],
            [
             0.6666666666666666,
             "#ed7953"
            ],
            [
             0.7777777777777778,
             "#fb9f3a"
            ],
            [
             0.8888888888888888,
             "#fdca26"
            ],
            [
             1,
             "#f0f921"
            ]
           ]
          },
          "colorway": [
           "#636efa",
           "#EF553B",
           "#00cc96",
           "#ab63fa",
           "#FFA15A",
           "#19d3f3",
           "#FF6692",
           "#B6E880",
           "#FF97FF",
           "#FECB52"
          ],
          "font": {
           "color": "#2a3f5f"
          },
          "geo": {
           "bgcolor": "white",
           "lakecolor": "white",
           "landcolor": "#E5ECF6",
           "showlakes": true,
           "showland": true,
           "subunitcolor": "white"
          },
          "hoverlabel": {
           "align": "left"
          },
          "hovermode": "closest",
          "mapbox": {
           "style": "light"
          },
          "paper_bgcolor": "white",
          "plot_bgcolor": "#E5ECF6",
          "polar": {
           "angularaxis": {
            "gridcolor": "white",
            "linecolor": "white",
            "ticks": ""
           },
           "bgcolor": "#E5ECF6",
           "radialaxis": {
            "gridcolor": "white",
            "linecolor": "white",
            "ticks": ""
           }
          },
          "scene": {
           "xaxis": {
            "backgroundcolor": "#E5ECF6",
            "gridcolor": "white",
            "gridwidth": 2,
            "linecolor": "white",
            "showbackground": true,
            "ticks": "",
            "zerolinecolor": "white"
           },
           "yaxis": {
            "backgroundcolor": "#E5ECF6",
            "gridcolor": "white",
            "gridwidth": 2,
            "linecolor": "white",
            "showbackground": true,
            "ticks": "",
            "zerolinecolor": "white"
           },
           "zaxis": {
            "backgroundcolor": "#E5ECF6",
            "gridcolor": "white",
            "gridwidth": 2,
            "linecolor": "white",
            "showbackground": true,
            "ticks": "",
            "zerolinecolor": "white"
           }
          },
          "shapedefaults": {
           "line": {
            "color": "#2a3f5f"
           }
          },
          "ternary": {
           "aaxis": {
            "gridcolor": "white",
            "linecolor": "white",
            "ticks": ""
           },
           "baxis": {
            "gridcolor": "white",
            "linecolor": "white",
            "ticks": ""
           },
           "bgcolor": "#E5ECF6",
           "caxis": {
            "gridcolor": "white",
            "linecolor": "white",
            "ticks": ""
           }
          },
          "title": {
           "x": 0.05
          },
          "xaxis": {
           "automargin": true,
           "gridcolor": "white",
           "linecolor": "white",
           "ticks": "",
           "title": {
            "standoff": 15
           },
           "zerolinecolor": "white",
           "zerolinewidth": 2
          },
          "yaxis": {
           "automargin": true,
           "gridcolor": "white",
           "linecolor": "white",
           "ticks": "",
           "title": {
            "standoff": 15
           },
           "zerolinecolor": "white",
           "zerolinewidth": 2
          }
         }
        },
        "title": {
         "text": "Desired experience with Cloud service provider"
        },
        "xaxis": {
         "anchor": "y",
         "domain": [
          0,
          1
         ],
         "title": {
          "text": "Skills"
         }
        },
        "yaxis": {
         "anchor": "x",
         "domain": [
          0,
          1
         ],
         "range": [
          0,
          100
         ],
         "title": {
          "text": "Percentage of job applications"
         }
        }
       }
      }
     },
     "metadata": {},
     "output_type": "display_data"
    }
   ],
   "source": [
    "fig = px.bar(df_cloud_skills, x='skills', y='percent', title='Desired experience with Cloud service provider', labels={'skills': 'Skills', 'percent': 'Percentage of job applications'})\n",
    "fig.update_yaxes(range=[0, 100])\n",
    "fig.show()"
   ]
  },
  {
   "cell_type": "code",
   "execution_count": null,
   "metadata": {},
   "outputs": [],
   "source": [
    "fig = px.bar(df_cloud_skills, x='skills', y='percent', title='Desired experience with Cloud service provider', labels={'skills': 'Skills', 'percent': 'Percentage of job applications'})\n",
    "fig.update_yaxes(range=[0, 100])\n",
    "fig.show()"
   ]
  },
  {
   "cell_type": "code",
   "execution_count": 10,
   "metadata": {},
   "outputs": [
    {
     "data": {
      "text/html": [
       "<div>\n",
       "<style scoped>\n",
       "    .dataframe tbody tr th:only-of-type {\n",
       "        vertical-align: middle;\n",
       "    }\n",
       "\n",
       "    .dataframe tbody tr th {\n",
       "        vertical-align: top;\n",
       "    }\n",
       "\n",
       "    .dataframe thead th {\n",
       "        text-align: right;\n",
       "    }\n",
       "</style>\n",
       "<table border=\"1\" class=\"dataframe\">\n",
       "  <thead>\n",
       "    <tr style=\"text-align: right;\">\n",
       "      <th></th>\n",
       "      <th>count</th>\n",
       "    </tr>\n",
       "    <tr>\n",
       "      <th>skills</th>\n",
       "      <th></th>\n",
       "    </tr>\n",
       "  </thead>\n",
       "  <tbody>\n",
       "    <tr>\n",
       "      <th>finance</th>\n",
       "      <td>4</td>\n",
       "    </tr>\n",
       "    <tr>\n",
       "      <th>analytics</th>\n",
       "      <td>4</td>\n",
       "    </tr>\n",
       "    <tr>\n",
       "      <th>business</th>\n",
       "      <td>4</td>\n",
       "    </tr>\n",
       "    <tr>\n",
       "      <th>support</th>\n",
       "      <td>4</td>\n",
       "    </tr>\n",
       "    <tr>\n",
       "      <th>sql</th>\n",
       "      <td>3</td>\n",
       "    </tr>\n",
       "    <tr>\n",
       "      <th>tableau</th>\n",
       "      <td>2</td>\n",
       "    </tr>\n",
       "    <tr>\n",
       "      <th>excel</th>\n",
       "      <td>2</td>\n",
       "    </tr>\n",
       "    <tr>\n",
       "      <th>play</th>\n",
       "      <td>2</td>\n",
       "    </tr>\n",
       "    <tr>\n",
       "      <th>collaboration</th>\n",
       "      <td>2</td>\n",
       "    </tr>\n",
       "    <tr>\n",
       "      <th>marketing</th>\n",
       "      <td>2</td>\n",
       "    </tr>\n",
       "    <tr>\n",
       "      <th>data management</th>\n",
       "      <td>2</td>\n",
       "    </tr>\n",
       "    <tr>\n",
       "      <th>machine learning</th>\n",
       "      <td>2</td>\n",
       "    </tr>\n",
       "    <tr>\n",
       "      <th>engineering</th>\n",
       "      <td>2</td>\n",
       "    </tr>\n",
       "    <tr>\n",
       "      <th>data science</th>\n",
       "      <td>1</td>\n",
       "    </tr>\n",
       "    <tr>\n",
       "      <th>data visualization</th>\n",
       "      <td>1</td>\n",
       "    </tr>\n",
       "    <tr>\n",
       "      <th>framework</th>\n",
       "      <td>1</td>\n",
       "    </tr>\n",
       "    <tr>\n",
       "      <th>business intelligence</th>\n",
       "      <td>1</td>\n",
       "    </tr>\n",
       "    <tr>\n",
       "      <th>design</th>\n",
       "      <td>1</td>\n",
       "    </tr>\n",
       "    <tr>\n",
       "      <th>forums</th>\n",
       "      <td>1</td>\n",
       "    </tr>\n",
       "    <tr>\n",
       "      <th>ai</th>\n",
       "      <td>1</td>\n",
       "    </tr>\n",
       "    <tr>\n",
       "      <th>big data</th>\n",
       "      <td>1</td>\n",
       "    </tr>\n",
       "    <tr>\n",
       "      <th>looker</th>\n",
       "      <td>1</td>\n",
       "    </tr>\n",
       "    <tr>\n",
       "      <th>artificial intelligence</th>\n",
       "      <td>1</td>\n",
       "    </tr>\n",
       "    <tr>\n",
       "      <th>data quality</th>\n",
       "      <td>1</td>\n",
       "    </tr>\n",
       "    <tr>\n",
       "      <th>google analytics</th>\n",
       "      <td>1</td>\n",
       "    </tr>\n",
       "    <tr>\n",
       "      <th>data analysis</th>\n",
       "      <td>1</td>\n",
       "    </tr>\n",
       "    <tr>\n",
       "      <th>dashboards</th>\n",
       "      <td>1</td>\n",
       "    </tr>\n",
       "    <tr>\n",
       "      <th>knowledge base</th>\n",
       "      <td>1</td>\n",
       "    </tr>\n",
       "    <tr>\n",
       "      <th>ambiguity</th>\n",
       "      <td>1</td>\n",
       "    </tr>\n",
       "    <tr>\n",
       "      <th>scalability</th>\n",
       "      <td>1</td>\n",
       "    </tr>\n",
       "    <tr>\n",
       "      <th>python</th>\n",
       "      <td>1</td>\n",
       "    </tr>\n",
       "    <tr>\n",
       "      <th>financial system</th>\n",
       "      <td>1</td>\n",
       "    </tr>\n",
       "  </tbody>\n",
       "</table>\n",
       "</div>"
      ],
      "text/plain": [
       "                         count\n",
       "skills                        \n",
       "finance                      4\n",
       "analytics                    4\n",
       "business                     4\n",
       "support                      4\n",
       "sql                          3\n",
       "tableau                      2\n",
       "excel                        2\n",
       "play                         2\n",
       "collaboration                2\n",
       "marketing                    2\n",
       "data management              2\n",
       "machine learning             2\n",
       "engineering                  2\n",
       "data science                 1\n",
       "data visualization           1\n",
       "framework                    1\n",
       "business intelligence        1\n",
       "design                       1\n",
       "forums                       1\n",
       "ai                           1\n",
       "big data                     1\n",
       "looker                       1\n",
       "artificial intelligence      1\n",
       "data quality                 1\n",
       "google analytics             1\n",
       "data analysis                1\n",
       "dashboards                   1\n",
       "knowledge base               1\n",
       "ambiguity                    1\n",
       "scalability                  1\n",
       "python                       1\n",
       "financial system             1"
      ]
     },
     "execution_count": 10,
     "metadata": {},
     "output_type": "execute_result"
    }
   ],
   "source": [
    "skills_counts\n"
   ]
  },
  {
   "cell_type": "code",
   "execution_count": 11,
   "metadata": {},
   "outputs": [
    {
     "data": {
      "image/png": "[encoded data removed]",
      "text/plain": [
       "<Figure size 1000x500 with 1 Axes>"
      ]
     },
     "metadata": {},
     "output_type": "display_data"
    }
   ],
   "source": [
    "from wordcloud import WordCloud\n",
    "import matplotlib.pyplot as plt\n",
    "skills_counts\n",
    "word_count = dict(zip(skills_counts.index, skills_counts['count']))\n",
    "wordcloud = WordCloud(width=800, height=400, background_color='white').generate_from_frequencies(word_count)\n",
    "\n",
    "# Display the word cloud using matplotlib\n",
    "plt.figure(figsize=(10, 5))\n",
    "plt.imshow(wordcloud, interpolation='bilinear')\n",
    "plt.axis('off')\n",
    "plt.show()\n",
    "\n",
    "# # Convert the matplotlib figure to a Plotly figure\n",
    "# fig = px.imshow(wordcloud, template='plotly_white')\n",
    "# fig.update_layout(title='Word Cloud Visualization')\n",
    "\n",
    "# # Show the plot\n",
    "# fig.show()"
   ]
  },
  {
   "cell_type": "code",
   "execution_count": null,
   "metadata": {},
   "outputs": [],
   "source": [
    "df = gdf\n",
    "print(df)\n",
    "\n",
    "# Apply filters\n",
    "if filter1:\n",
    "    print(filter1)\n",
    "    df = df[df['job_type'].isin(filter1)]\n",
    "    print('jobtype', df)\n",
    "if filter2:\n",
    "    df = df[df['seniority'].isin(filter2)]\n",
    "    print('seniority', df)\n",
    "if start_date and end_date:\n",
    "    start_date = pd.to_datetime(start_date)\n",
    "    end_date = pd.to_datetime(end_date) + pd.Timedelta(days=1)\n",
    "    df['date'] = pd.to_datetime(df['date'])\n",
    "    print(start_date, end_date)\n",
    "    df = df[(df['date'] >= start_date) & (df['date'] <= end_date)]\n",
    "    print('date',df)\n",
    "if filter4:\n",
    "    print(filter4)\n",
    "    df = df[df['skills'].map(lambda x: all(skill in x for skill in filter4))]\n",
    "    \n",
    "    print('skill', df)\n",
    "print('filtered', df)\n",
    "# Define coding languages and cloud skills\n",
    "coding_languages = [\n",
    "    'python', 'javascript', 'java', 'c++', 'c#', 'php', 'ruby', 'swift', 'kotlin', 'typescript',\n",
    "    'go', 'rust', 'sql', 'r', 'html', 'css', 'bash', 'perl', 'objective-c', 'scala',\n",
    "    'lua', 'haskell', 'matlab', 'dart', 'visual basic .net', 'assembly language', 'f#', 'groovy', 'elixir', 'clojure',\n",
    "    'erlang', 'julia', 'vbscript', 'lisp', 'prolog', 'scheme', 'ada', 'fortran', 'cobol', 'pascal',\n",
    "    'racket', 'scratch', 'tcl', 'smalltalk', 'actionscript', 'awk', 'ocaml', 'pl/sql', 'sas', 'logo'\n",
    "]\n",
    "cloud_skills = {\n",
    "    'aws': 'amazon web services',\n",
    "    'gcp': 'google cloud platform',\n",
    "    'azure': 'microsoft azure',\n",
    "    'ibm': 'ibm cloud',\n",
    "    'oci': 'oracle cloud',\n",
    "    'sf': 'salesforce',\n",
    "    'sap': 'sap cloud',\n",
    "    'do': 'digitalocean'\n",
    "}\n",
    "\n",
    "job_type_share = (df.job_type.value_counts(normalize=True) * 100).astype(int)\n",
    "# Explode the 'skills' column and calculate value counts\\\n",
    "skills_counts = pd.DataFrame(df.explode('skills')['skills'].value_counts())\n",
    "\n",
    "total_skills = len(df)\n",
    "skills_counts['percent'] = ((skills_counts['count'] / total_skills) * 100).astype(int)\n",
    "\n",
    "# Filter coding languages and cloud skills\n",
    "df_coding_languages = skills_counts[skills_counts.index.isin(coding_languages)].reset_index()\n",
    "df_cloud_skills = skills_counts[skills_counts.index.isin(list(cloud_skills.values()) + list(cloud_skills.keys()))].reset_index()\n",
    "print(df_coding_languages)\n",
    "# print()\n",
    "\n",
    "\n",
    "# Create the bar chart\n",
    "fig = px.bar(df_coding_languages, x='skills', y='percent', title='Coding skills', labels={'index': 'Skills', 'percent': 'Percentage of job applications'})\n",
    "fig.update_yaxes(range=[0, 100])\n",
    "fig.update_layout(plot_bgcolor='#010103',\n",
    "                showlegend=False,\n",
    "                template='plotly_dark',\n",
    "                paper_bgcolor='#010103',\n",
    "                font=dict(\n",
    "                    family='Poppins, sans-serif',  # Apply Poppins font\n",
    "                    size=14,  # Set the default font size (adjust as needed)\n",
    "                    color='white'  # Set the font color\n",
    "                )\n",
    "                )\n",
    "\n",
    "fig2 = px.bar(df_cloud_skills, x='skills', y='percent', title='Desired experience with Cloud service provider', labels={'index': 'Skills', 'percent': 'Percentage of job applications'})\n",
    "fig2.update_yaxes(range=[0, 100])\n",
    "fig2.update_layout(plot_bgcolor='#010103',\n",
    "                showlegend=False,\n",
    "                template='plotly_dark',\n",
    "                paper_bgcolor='#010103',\n",
    "                font=dict(\n",
    "                    family='Poppins, sans-serif',  # Apply Poppins font\n",
    "                    size=14,  # Set the default font size (adjust as needed)\n",
    "                    color='white'  # Set the font color\n",
    "                )\n",
    "                )\n",
    "\n"
   ]
  },
  {
   "cell_type": "code",
   "execution_count": null,
   "metadata": {},
   "outputs": [],
   "source": []
  },
  {
   "cell_type": "code",
   "execution_count": null,
   "metadata": {},
   "outputs": [],
   "source": []
  },
  {
   "cell_type": "code",
   "execution_count": null,
   "metadata": {},
   "outputs": [],
   "source": []
  },
  {
   "cell_type": "code",
   "execution_count": null,
   "metadata": {},
   "outputs": [],
   "source": []
  },
  {
   "cell_type": "code",
   "execution_count": 9,
   "metadata": {},
   "outputs": [],
   "source": [
    "import polars as pl\n",
    "import os\n",
    "from google.cloud import storage\n",
    "import gcsfs\n",
    "\n",
    "# Set up Google Cloud Storage credentials\n",
    "os.environ[\"GOOGLE_APPLICATION_CREDENTIALS\"] = r\"../service-account-details.json\" \n",
    "\n",
    "# Define the path to your GCS bucket and file\n",
    "file_path_gcp = \"gs://oslo-linkedin-dataengineer-jobs/transformed/*.parquet\"\n",
    "\n",
    "# Load the Parquet file into a Polars DataFrame\n",
    "df = pl.read_parquet(file_path_gcp)\n",
    "\n",
    "\n",
    "def make_tbl(df):\n",
    "    df = df.with_columns(\n",
    "        pl.when(pl.col(\"seniority\").is_null())\n",
    "        .then(pl.lit(\"Mid / not specified\"))\n",
    "        .otherwise(pl.col(\"seniority\"))\n",
    "        .alias(\"seniority\")\n",
    "    )\n"
   ]
  },
  {
   "cell_type": "code",
   "execution_count": null,
   "metadata": {},
   "outputs": [],
   "source": []
  },
  {
   "cell_type": "code",
   "execution_count": 19,
   "metadata": {},
   "outputs": [
    {
     "name": "stdout",
     "output_type": "stream",
     "text": [
      "['Data Scientist']\n",
      "jobtype shape: (6, 6)\n",
      "┌────────────┬────────────────┬─────────┬────────────────────────────┬───────────┬─────────────────┐\n",
      "│ jobid      ┆ job_type       ┆ pay     ┆ skills                     ┆ seniority ┆ date            │\n",
      "│ ---        ┆ ---            ┆ ---     ┆ ---                        ┆ ---       ┆ ---             │\n",
      "│ str        ┆ str            ┆ f64     ┆ list[str]                  ┆ str       ┆ datetime[μs]    │\n",
      "╞════════════╪════════════════╪═════════╪════════════════════════════╪═══════════╪═════════════════╡\n",
      "│ 3995395648 ┆ Data Scientist ┆ 80.0    ┆ [\"pandas\", \"sql\", …        ┆ Senior    ┆ 2024-08-09      │\n",
      "│            ┆                ┆         ┆ \"keras\"]                   ┆           ┆ 07:03:18.882583 │\n",
      "│ 3976660348 ┆ Data Scientist ┆ 70000.0 ┆ [\"computer science\",       ┆ Senior    ┆ 2024-08-09      │\n",
      "│            ┆                ┆         ┆ \"analytic…                 ┆           ┆ 07:03:18.882583 │\n",
      "│ 3971255248 ┆ Data Scientist ┆ 60000.0 ┆ [\"sql\", \"python\", … \"data  ┆ Senior    ┆ 2024-08-09      │\n",
      "│            ┆                ┆         ┆ scie…                      ┆           ┆ 07:03:18.882583 │\n",
      "│ 3989561562 ┆ Data Scientist ┆ 80000.0 ┆ [\"machine learning\", \"deep ┆ Senior    ┆ 2024-08-09      │\n",
      "│            ┆                ┆         ┆ lea…                       ┆           ┆ 07:03:18.882583 │\n",
      "│ 3887142791 ┆ Data Scientist ┆ 500.0   ┆ [\"jupyter\", \"computer      ┆ Senior    ┆ 2024-08-09      │\n",
      "│            ┆                ┆         ┆ science\"…                  ┆           ┆ 07:03:18.882583 │\n",
      "│ 3996510285 ┆ Data Scientist ┆ null    ┆ [\"computer science\",       ┆ Senior    ┆ 2024-08-09      │\n",
      "│            ┆                ┆         ┆ \"analytic…                 ┆           ┆ 07:03:18.882583 │\n",
      "└────────────┴────────────────┴─────────┴────────────────────────────┴───────────┴─────────────────┘\n",
      "seniority shape: (6, 6)\n",
      "┌────────────┬────────────────┬─────────┬────────────────────────────┬───────────┬─────────────────┐\n",
      "│ jobid      ┆ job_type       ┆ pay     ┆ skills                     ┆ seniority ┆ date            │\n",
      "│ ---        ┆ ---            ┆ ---     ┆ ---                        ┆ ---       ┆ ---             │\n",
      "│ str        ┆ str            ┆ f64     ┆ list[str]                  ┆ str       ┆ datetime[μs]    │\n",
      "╞════════════╪════════════════╪═════════╪════════════════════════════╪═══════════╪═════════════════╡\n",
      "│ 3995395648 ┆ Data Scientist ┆ 80.0    ┆ [\"pandas\", \"sql\", …        ┆ Senior    ┆ 2024-08-09      │\n",
      "│            ┆                ┆         ┆ \"keras\"]                   ┆           ┆ 07:03:18.882583 │\n",
      "│ 3976660348 ┆ Data Scientist ┆ 70000.0 ┆ [\"computer science\",       ┆ Senior    ┆ 2024-08-09      │\n",
      "│            ┆                ┆         ┆ \"analytic…                 ┆           ┆ 07:03:18.882583 │\n",
      "│ 3971255248 ┆ Data Scientist ┆ 60000.0 ┆ [\"sql\", \"python\", … \"data  ┆ Senior    ┆ 2024-08-09      │\n",
      "│            ┆                ┆         ┆ scie…                      ┆           ┆ 07:03:18.882583 │\n",
      "│ 3989561562 ┆ Data Scientist ┆ 80000.0 ┆ [\"machine learning\", \"deep ┆ Senior    ┆ 2024-08-09      │\n",
      "│            ┆                ┆         ┆ lea…                       ┆           ┆ 07:03:18.882583 │\n",
      "│ 3887142791 ┆ Data Scientist ┆ 500.0   ┆ [\"jupyter\", \"computer      ┆ Senior    ┆ 2024-08-09      │\n",
      "│            ┆                ┆         ┆ science\"…                  ┆           ┆ 07:03:18.882583 │\n",
      "│ 3996510285 ┆ Data Scientist ┆ null    ┆ [\"computer science\",       ┆ Senior    ┆ 2024-08-09      │\n",
      "│            ┆                ┆         ┆ \"analytic…                 ┆           ┆ 07:03:18.882583 │\n",
      "└────────────┴────────────────┴─────────┴────────────────────────────┴───────────┴─────────────────┘\n",
      "date shape: (6, 6)\n",
      "┌────────────┬────────────────┬─────────┬────────────────────────────┬───────────┬─────────────────┐\n",
      "│ jobid      ┆ job_type       ┆ pay     ┆ skills                     ┆ seniority ┆ date            │\n",
      "│ ---        ┆ ---            ┆ ---     ┆ ---                        ┆ ---       ┆ ---             │\n",
      "│ str        ┆ str            ┆ f64     ┆ list[str]                  ┆ str       ┆ datetime[μs]    │\n",
      "╞════════════╪════════════════╪═════════╪════════════════════════════╪═══════════╪═════════════════╡\n",
      "│ 3995395648 ┆ Data Scientist ┆ 80.0    ┆ [\"pandas\", \"sql\", …        ┆ Senior    ┆ 2024-08-09      │\n",
      "│            ┆                ┆         ┆ \"keras\"]                   ┆           ┆ 07:03:18.882583 │\n",
      "│ 3976660348 ┆ Data Scientist ┆ 70000.0 ┆ [\"computer science\",       ┆ Senior    ┆ 2024-08-09      │\n",
      "│            ┆                ┆         ┆ \"analytic…                 ┆           ┆ 07:03:18.882583 │\n",
      "│ 3971255248 ┆ Data Scientist ┆ 60000.0 ┆ [\"sql\", \"python\", … \"data  ┆ Senior    ┆ 2024-08-09      │\n",
      "│            ┆                ┆         ┆ scie…                      ┆           ┆ 07:03:18.882583 │\n",
      "│ 3989561562 ┆ Data Scientist ┆ 80000.0 ┆ [\"machine learning\", \"deep ┆ Senior    ┆ 2024-08-09      │\n",
      "│            ┆                ┆         ┆ lea…                       ┆           ┆ 07:03:18.882583 │\n",
      "│ 3887142791 ┆ Data Scientist ┆ 500.0   ┆ [\"jupyter\", \"computer      ┆ Senior    ┆ 2024-08-09      │\n",
      "│            ┆                ┆         ┆ science\"…                  ┆           ┆ 07:03:18.882583 │\n",
      "│ 3996510285 ┆ Data Scientist ┆ null    ┆ [\"computer science\",       ┆ Senior    ┆ 2024-08-09      │\n",
      "│            ┆                ┆         ┆ \"analytic…                 ┆           ┆ 07:03:18.882583 │\n",
      "└────────────┴────────────────┴─────────┴────────────────────────────┴───────────┴─────────────────┘\n",
      "['python']\n",
      "skill shape: (6, 6)\n",
      "┌────────────┬────────────────┬─────────┬────────────────────────────┬───────────┬─────────────────┐\n",
      "│ jobid      ┆ job_type       ┆ pay     ┆ skills                     ┆ seniority ┆ date            │\n",
      "│ ---        ┆ ---            ┆ ---     ┆ ---                        ┆ ---       ┆ ---             │\n",
      "│ str        ┆ str            ┆ f64     ┆ list[str]                  ┆ str       ┆ datetime[μs]    │\n",
      "╞════════════╪════════════════╪═════════╪════════════════════════════╪═══════════╪═════════════════╡\n",
      "│ 3995395648 ┆ Data Scientist ┆ 80.0    ┆ [\"pandas\", \"sql\", …        ┆ Senior    ┆ 2024-08-09      │\n",
      "│            ┆                ┆         ┆ \"keras\"]                   ┆           ┆ 07:03:18.882583 │\n",
      "│ 3976660348 ┆ Data Scientist ┆ 70000.0 ┆ [\"computer science\",       ┆ Senior    ┆ 2024-08-09      │\n",
      "│            ┆                ┆         ┆ \"analytic…                 ┆           ┆ 07:03:18.882583 │\n",
      "│ 3971255248 ┆ Data Scientist ┆ 60000.0 ┆ [\"sql\", \"python\", … \"data  ┆ Senior    ┆ 2024-08-09      │\n",
      "│            ┆                ┆         ┆ scie…                      ┆           ┆ 07:03:18.882583 │\n",
      "│ 3989561562 ┆ Data Scientist ┆ 80000.0 ┆ [\"machine learning\", \"deep ┆ Senior    ┆ 2024-08-09      │\n",
      "│            ┆                ┆         ┆ lea…                       ┆           ┆ 07:03:18.882583 │\n",
      "│ 3887142791 ┆ Data Scientist ┆ 500.0   ┆ [\"jupyter\", \"computer      ┆ Senior    ┆ 2024-08-09      │\n",
      "│            ┆                ┆         ┆ science\"…                  ┆           ┆ 07:03:18.882583 │\n",
      "│ 3996510285 ┆ Data Scientist ┆ null    ┆ [\"computer science\",       ┆ Senior    ┆ 2024-08-09      │\n",
      "│            ┆                ┆         ┆ \"analytic…                 ┆           ┆ 07:03:18.882583 │\n",
      "└────────────┴────────────────┴─────────┴────────────────────────────┴───────────┴─────────────────┘\n",
      "filtered shape: (6, 6)\n",
      "┌────────────┬────────────────┬─────────┬────────────────────────────┬───────────┬─────────────────┐\n",
      "│ jobid      ┆ job_type       ┆ pay     ┆ skills                     ┆ seniority ┆ date            │\n",
      "│ ---        ┆ ---            ┆ ---     ┆ ---                        ┆ ---       ┆ ---             │\n",
      "│ str        ┆ str            ┆ f64     ┆ list[str]                  ┆ str       ┆ datetime[μs]    │\n",
      "╞════════════╪════════════════╪═════════╪════════════════════════════╪═══════════╪═════════════════╡\n",
      "│ 3995395648 ┆ Data Scientist ┆ 80.0    ┆ [\"pandas\", \"sql\", …        ┆ Senior    ┆ 2024-08-09      │\n",
      "│            ┆                ┆         ┆ \"keras\"]                   ┆           ┆ 07:03:18.882583 │\n",
      "│ 3976660348 ┆ Data Scientist ┆ 70000.0 ┆ [\"computer science\",       ┆ Senior    ┆ 2024-08-09      │\n",
      "│            ┆                ┆         ┆ \"analytic…                 ┆           ┆ 07:03:18.882583 │\n",
      "│ 3971255248 ┆ Data Scientist ┆ 60000.0 ┆ [\"sql\", \"python\", … \"data  ┆ Senior    ┆ 2024-08-09      │\n",
      "│            ┆                ┆         ┆ scie…                      ┆           ┆ 07:03:18.882583 │\n",
      "│ 3989561562 ┆ Data Scientist ┆ 80000.0 ┆ [\"machine learning\", \"deep ┆ Senior    ┆ 2024-08-09      │\n",
      "│            ┆                ┆         ┆ lea…                       ┆           ┆ 07:03:18.882583 │\n",
      "│ 3887142791 ┆ Data Scientist ┆ 500.0   ┆ [\"jupyter\", \"computer      ┆ Senior    ┆ 2024-08-09      │\n",
      "│            ┆                ┆         ┆ science\"…                  ┆           ┆ 07:03:18.882583 │\n",
      "│ 3996510285 ┆ Data Scientist ┆ null    ┆ [\"computer science\",       ┆ Senior    ┆ 2024-08-09      │\n",
      "│            ┆                ┆         ┆ \"analytic…                 ┆           ┆ 07:03:18.882583 │\n",
      "└────────────┴────────────────┴─────────┴────────────────────────────┴───────────┴─────────────────┘\n"
     ]
    },
    {
     "data": {
      "text/html": [
       "<div><style>\n",
       ".dataframe > thead > tr,\n",
       ".dataframe > tbody > tr {\n",
       "  text-align: right;\n",
       "  white-space: pre-wrap;\n",
       "}\n",
       "</style>\n",
       "<small>shape: (1, 2)</small><table border=\"1\" class=\"dataframe\"><thead><tr><th>job_type</th><th>count</th></tr><tr><td>str</td><td>u32</td></tr></thead><tbody><tr><td>&quot;Data Scientist&quot;</td><td>6</td></tr></tbody></table></div>"
      ],
      "text/plain": [
       "shape: (1, 2)\n",
       "┌────────────────┬───────┐\n",
       "│ job_type       ┆ count │\n",
       "│ ---            ┆ ---   │\n",
       "│ str            ┆ u32   │\n",
       "╞════════════════╪═══════╡\n",
       "│ Data Scientist ┆ 6     │\n",
       "└────────────────┴───────┘"
      ]
     },
     "execution_count": 19,
     "metadata": {},
     "output_type": "execute_result"
    }
   ],
   "source": [
    "import polars as pl\n",
    "from datetime import datetime, timedelta\n",
    "\n",
    "# Define the filters\n",
    "filter1 = [\"Data Scientist\"]\n",
    "filter2 = [\"Senior\"]\n",
    "start_date = (datetime.now() - timedelta(days=2)).strftime('%Y-%m-%d')\n",
    "end_date = datetime.now().strftime('%Y-%m-%d')\n",
    "filter4 = [\"python\"]\n",
    "\n",
    "# Apply filters\n",
    "if filter1:\n",
    "    print(filter1)\n",
    "    df = df.filter(pl.col(\"job_type\").is_in(filter1))\n",
    "    print('jobtype', df)\n",
    "\n",
    "if filter2:\n",
    "    df = df.filter(pl.col(\"seniority\").is_in(filter2))\n",
    "    print('seniority', df)\n",
    "\n",
    "if start_date and end_date:\n",
    "    start_date = datetime.strptime(start_date, '%Y-%m-%d')\n",
    "    end_date = datetime.strptime(end_date, '%Y-%m-%d') + timedelta(days=1)\n",
    "    df = df.filter((pl.col(\"date\") >= start_date) & (pl.col(\"date\") < end_date))\n",
    "    print('date', df)\n",
    "\n",
    "if filter4:\n",
    "    print(filter4)\n",
    "    df = df.filter(\n",
    "        df['skills'].map_elements(lambda x: all(skill in x for skill in filter4), return_dtype=pl.List(pl.String))\n",
    "    )\n",
    "    print('skill', df)\n",
    "\n",
    "print('filtered', df)\n",
    "\n",
    "# Define coding languages and cloud skills\n",
    "coding_languages = [\n",
    "    'python', 'javascript', 'java', 'c++', 'c#', 'php', 'ruby', 'swift', 'kotlin', 'typescript',\n",
    "    'go', 'rust', 'sql', 'r', 'html', 'css', 'bash', 'perl', 'objective-c', 'scala',\n",
    "    'lua', 'haskell', 'matlab', 'dart', 'visual basic .net', 'assembly language', 'f#', 'groovy', 'elixir', 'clojure',\n",
    "    'erlang', 'julia', 'vbscript', 'lisp', 'prolog', 'scheme', 'ada', 'fortran', 'cobol', 'pascal',\n",
    "    'racket', 'scratch', 'tcl', 'smalltalk', 'actionscript', 'awk', 'ocaml', 'pl/sql', 'sas', 'logo'\n",
    "]\n",
    "cloud_skills = {\n",
    "    'aws': 'amazon web services',\n",
    "    'gcp': 'google cloud platform',\n",
    "    'azure': 'microsoft azure',\n",
    "    'ibm': 'ibm cloud',\n",
    "    'oci': 'oracle cloud',\n",
    "    'sf': 'salesforce',\n",
    "    'sap': 'sap cloud',\n",
    "    'do': 'digitalocean'\n",
    "}\n",
    "\n"
   ]
  },
  {
   "cell_type": "code",
   "execution_count": 61,
   "metadata": {},
   "outputs": [
    {
     "data": {
      "text/html": [
       "<div><style>\n",
       ".dataframe > thead > tr,\n",
       ".dataframe > tbody > tr {\n",
       "  text-align: right;\n",
       "  white-space: pre-wrap;\n",
       "}\n",
       "</style>\n",
       "<small>shape: (20, 3)</small><table border=\"1\" class=\"dataframe\"><thead><tr><th>skills</th><th>counts</th><th>percentage</th></tr><tr><td>str</td><td>u32</td><td>i16</td></tr></thead><tbody><tr><td>&quot;segmentation&quot;</td><td>1</td><td>17</td></tr><tr><td>&quot;looker&quot;</td><td>1</td><td>17</td></tr><tr><td>&quot;nlp&quot;</td><td>1</td><td>17</td></tr><tr><td>&quot;testing&quot;</td><td>1</td><td>17</td></tr><tr><td>&quot;machine learning&quot;</td><td>3</td><td>50</td></tr><tr><td>&hellip;</td><td>&hellip;</td><td>&hellip;</td></tr><tr><td>&quot;deep learning&quot;</td><td>2</td><td>33</td></tr><tr><td>&quot;project management&quot;</td><td>1</td><td>17</td></tr><tr><td>&quot;numpy&quot;</td><td>1</td><td>17</td></tr><tr><td>&quot;play&quot;</td><td>1</td><td>17</td></tr><tr><td>&quot;monitoring&quot;</td><td>2</td><td>33</td></tr></tbody></table></div>"
      ],
      "text/plain": [
       "shape: (20, 3)\n",
       "┌────────────────────┬────────┬────────────┐\n",
       "│ skills             ┆ counts ┆ percentage │\n",
       "│ ---                ┆ ---    ┆ ---        │\n",
       "│ str                ┆ u32    ┆ i16        │\n",
       "╞════════════════════╪════════╪════════════╡\n",
       "│ segmentation       ┆ 1      ┆ 17         │\n",
       "│ looker             ┆ 1      ┆ 17         │\n",
       "│ nlp                ┆ 1      ┆ 17         │\n",
       "│ testing            ┆ 1      ┆ 17         │\n",
       "│ machine learning   ┆ 3      ┆ 50         │\n",
       "│ …                  ┆ …      ┆ …          │\n",
       "│ deep learning      ┆ 2      ┆ 33         │\n",
       "│ project management ┆ 1      ┆ 17         │\n",
       "│ numpy              ┆ 1      ┆ 17         │\n",
       "│ play               ┆ 1      ┆ 17         │\n",
       "│ monitoring         ┆ 2      ┆ 33         │\n",
       "└────────────────────┴────────┴────────────┘"
      ]
     },
     "execution_count": 61,
     "metadata": {},
     "output_type": "execute_result"
    }
   ],
   "source": [
    "# Calculate job type share (percentage of each job type)\n",
    "\n",
    "total_job_postings = len(df)\n",
    "\n",
    "job_type_share = df['job_type'].value_counts().with_columns(\n",
    "    (pl.col(\"count\").alias(\"counts\") / total_job_postings * 100).alias(\"percentage\").round(0).cast(pl.Int16)\n",
    ")\n",
    "# # # Explode the 'skills' column and calculate value counts\n",
    "skills_counts = df.explode(\"skills\").group_by(\"skills\").len(name=\"counts\").with_columns(\n",
    "    (pl.col(\"counts\") / total_job_postings * 100).alias(\"percentage\").round(0).cast(pl.Int16)\n",
    ")\n",
    "\n",
    "\n",
    "# # Filter coding languages and cloud skills\n",
    "df_coding_languages = skills_counts.filter(pl.col(\"skills\").is_in(coding_languages))\n",
    "\n",
    "df_cloud_skills = skills_counts.filter(pl.col(\"skills\").is_in(list(cloud_skills.values()) + list(cloud_skills.keys())))\n",
    "\n",
    "job_type_share\n",
    "\n",
    "skills_counts.head(20)\n"
   ]
  },
  {
   "cell_type": "code",
   "execution_count": 62,
   "metadata": {},
   "outputs": [
    {
     "data": {
      "text/html": [
       "<div><style>\n",
       ".dataframe > thead > tr,\n",
       ".dataframe > tbody > tr {\n",
       "  text-align: right;\n",
       "  white-space: pre-wrap;\n",
       "}\n",
       "</style>\n",
       "<small>shape: (2, 3)</small><table border=\"1\" class=\"dataframe\"><thead><tr><th>skills</th><th>counts</th><th>percentage</th></tr><tr><td>str</td><td>u32</td><td>i16</td></tr></thead><tbody><tr><td>&quot;sql&quot;</td><td>3</td><td>50</td></tr><tr><td>&quot;python&quot;</td><td>6</td><td>100</td></tr></tbody></table></div>"
      ],
      "text/plain": [
       "shape: (2, 3)\n",
       "┌────────┬────────┬────────────┐\n",
       "│ skills ┆ counts ┆ percentage │\n",
       "│ ---    ┆ ---    ┆ ---        │\n",
       "│ str    ┆ u32    ┆ i16        │\n",
       "╞════════╪════════╪════════════╡\n",
       "│ sql    ┆ 3      ┆ 50         │\n",
       "│ python ┆ 6      ┆ 100        │\n",
       "└────────┴────────┴────────────┘"
      ]
     },
     "execution_count": 62,
     "metadata": {},
     "output_type": "execute_result"
    }
   ],
   "source": [
    "df_coding_languages"
   ]
  },
  {
   "cell_type": "code",
   "execution_count": 63,
   "metadata": {},
   "outputs": [
    {
     "data": {
      "text/html": [
       "<div><style>\n",
       ".dataframe > thead > tr,\n",
       ".dataframe > tbody > tr {\n",
       "  text-align: right;\n",
       "  white-space: pre-wrap;\n",
       "}\n",
       "</style>\n",
       "<small>shape: (1, 3)</small><table border=\"1\" class=\"dataframe\"><thead><tr><th>skills</th><th>counts</th><th>percentage</th></tr><tr><td>str</td><td>u32</td><td>i16</td></tr></thead><tbody><tr><td>&quot;aws&quot;</td><td>1</td><td>17</td></tr></tbody></table></div>"
      ],
      "text/plain": [
       "shape: (1, 3)\n",
       "┌────────┬────────┬────────────┐\n",
       "│ skills ┆ counts ┆ percentage │\n",
       "│ ---    ┆ ---    ┆ ---        │\n",
       "│ str    ┆ u32    ┆ i16        │\n",
       "╞════════╪════════╪════════════╡\n",
       "│ aws    ┆ 1      ┆ 17         │\n",
       "└────────┴────────┴────────────┘"
      ]
     },
     "execution_count": 63,
     "metadata": {},
     "output_type": "execute_result"
    }
   ],
   "source": [
    "df_cloud_skills"
   ]
  },
  {
   "cell_type": "code",
   "execution_count": 81,
   "metadata": {},
   "outputs": [
    {
     "data": {
      "text/html": [
       "<div><style>\n",
       ".dataframe > thead > tr,\n",
       ".dataframe > tbody > tr {\n",
       "  text-align: right;\n",
       "  white-space: pre-wrap;\n",
       "}\n",
       "</style>\n",
       "<small>shape: (1, 3)</small><table border=\"1\" class=\"dataframe\"><thead><tr><th>job_type</th><th>count</th><th>percentage</th></tr><tr><td>str</td><td>u32</td><td>i16</td></tr></thead><tbody><tr><td>&quot;Data Scientist&quot;</td><td>6</td><td>100</td></tr></tbody></table></div>"
      ],
      "text/plain": [
       "shape: (1, 3)\n",
       "┌────────────────┬───────┬────────────┐\n",
       "│ job_type       ┆ count ┆ percentage │\n",
       "│ ---            ┆ ---   ┆ ---        │\n",
       "│ str            ┆ u32   ┆ i16        │\n",
       "╞════════════════╪═══════╪════════════╡\n",
       "│ Data Scientist ┆ 6     ┆ 100        │\n",
       "└────────────────┴───────┴────────────┘"
      ]
     },
     "execution_count": 81,
     "metadata": {},
     "output_type": "execute_result"
    }
   ],
   "source": [
    "job_type_share"
   ]
  },
  {
   "cell_type": "code",
   "execution_count": 82,
   "metadata": {},
   "outputs": [
    {
     "data": {
      "application/vnd.plotly.v1+json": {
       "config": {
        "plotlyServerURL": "https://plot.ly"
       },
       "data": [
        {
         "alignmentgroup": "True",
         "hovertemplate": "x=%{x}<br>y=%{y}<extra></extra>",
         "legendgroup": "",
         "marker": {
          "color": "#636efa",
          "pattern": {
           "shape": ""
          }
         },
         "name": "",
         "offsetgroup": "",
         "orientation": "v",
         "showlegend": false,
         "textposition": "auto",
         "type": "bar",
         "x": [
          "Data Scientist"
         ],
         "xaxis": "x",
         "y": [
          17
         ],
         "yaxis": "y"
        }
       ],
       "layout": {
        "barmode": "relative",
        "font": {
         "color": "white",
         "family": "Poppins, sans-serif",
         "size": 14
        },
        "legend": {
         "tracegroupgap": 0
        },
        "paper_bgcolor": "#010103",
        "plot_bgcolor": "#010103",
        "showlegend": false,
        "template": {
         "data": {
          "bar": [
           {
            "error_x": {
             "color": "#f2f5fa"
            },
            "error_y": {
             "color": "#f2f5fa"
            },
            "marker": {
             "line": {
              "color": "rgb(17,17,17)",
              "width": 0.5
             },
             "pattern": {
              "fillmode": "overlay",
              "size": 10,
              "solidity": 0.2
             }
            },
            "type": "bar"
           }
          ],
          "barpolar": [
           {
            "marker": {
             "line": {
              "color": "rgb(17,17,17)",
              "width": 0.5
             },
             "pattern": {
              "fillmode": "overlay",
              "size": 10,
              "solidity": 0.2
             }
            },
            "type": "barpolar"
           }
          ],
          "carpet": [
           {
            "aaxis": {
             "endlinecolor": "#A2B1C6",
             "gridcolor": "#506784",
             "linecolor": "#506784",
             "minorgridcolor": "#506784",
             "startlinecolor": "#A2B1C6"
            },
            "baxis": {
             "endlinecolor": "#A2B1C6",
             "gridcolor": "#506784",
             "linecolor": "#506784",
             "minorgridcolor": "#506784",
             "startlinecolor": "#A2B1C6"
            },
            "type": "carpet"
           }
          ],
          "choropleth": [
           {
            "colorbar": {
             "outlinewidth": 0,
             "ticks": ""
            },
            "type": "choropleth"
           }
          ],
          "contour": [
           {
            "colorbar": {
             "outlinewidth": 0,
             "ticks": ""
            },
            "colorscale": [
             [
              0,
              "#0d0887"
             ],
             [
              0.1111111111111111,
              "#46039f"
             ],
             [
              0.2222222222222222,
              "#7201a8"
             ],
             [
              0.3333333333333333,
              "#9c179e"
             ],
             [
              0.4444444444444444,
              "#bd3786"
             ],
             [
              0.5555555555555556,
              "#d8576b"
             ],
             [
              0.6666666666666666,
              "#ed7953"
             ],
             [
              0.7777777777777778,
              "#fb9f3a"
             ],
             [
              0.8888888888888888,
              "#fdca26"
             ],
             [
              1,
              "#f0f921"
             ]
            ],
            "type": "contour"
           }
          ],
          "contourcarpet": [
           {
            "colorbar": {
             "outlinewidth": 0,
             "ticks": ""
            },
            "type": "contourcarpet"
           }
          ],
          "heatmap": [
           {
            "colorbar": {
             "outlinewidth": 0,
             "ticks": ""
            },
            "colorscale": [
             [
              0,
              "#0d0887"
             ],
             [
              0.1111111111111111,
              "#46039f"
             ],
             [
              0.2222222222222222,
              "#7201a8"
             ],
             [
              0.3333333333333333,
              "#9c179e"
             ],
             [
              0.4444444444444444,
              "#bd3786"
             ],
             [
              0.5555555555555556,
              "#d8576b"
             ],
             [
              0.6666666666666666,
              "#ed7953"
             ],
             [
              0.7777777777777778,
              "#fb9f3a"
             ],
             [
              0.8888888888888888,
              "#fdca26"
             ],
             [
              1,
              "#f0f921"
             ]
            ],
            "type": "heatmap"
           }
          ],
          "heatmapgl": [
           {
            "colorbar": {
             "outlinewidth": 0,
             "ticks": ""
            },
            "colorscale": [
             [
              0,
              "#0d0887"
             ],
             [
              0.1111111111111111,
              "#46039f"
             ],
             [
              0.2222222222222222,
              "#7201a8"
             ],
             [
              0.3333333333333333,
              "#9c179e"
             ],
             [
              0.4444444444444444,
              "#bd3786"
             ],
             [
              0.5555555555555556,
              "#d8576b"
             ],
             [
              0.6666666666666666,
              "#ed7953"
             ],
             [
              0.7777777777777778,
              "#fb9f3a"
             ],
             [
              0.8888888888888888,
              "#fdca26"
             ],
             [
              1,
              "#f0f921"
             ]
            ],
            "type": "heatmapgl"
           }
          ],
          "histogram": [
           {
            "marker": {
             "pattern": {
              "fillmode": "overlay",
              "size": 10,
              "solidity": 0.2
             }
            },
            "type": "histogram"
           }
          ],
          "histogram2d": [
           {
            "colorbar": {
             "outlinewidth": 0,
             "ticks": ""
            },
            "colorscale": [
             [
              0,
              "#0d0887"
             ],
             [
              0.1111111111111111,
              "#46039f"
             ],
             [
              0.2222222222222222,
              "#7201a8"
             ],
             [
              0.3333333333333333,
              "#9c179e"
             ],
             [
              0.4444444444444444,
              "#bd3786"
             ],
             [
              0.5555555555555556,
              "#d8576b"
             ],
             [
              0.6666666666666666,
              "#ed7953"
             ],
             [
              0.7777777777777778,
              "#fb9f3a"
             ],
             [
              0.8888888888888888,
              "#fdca26"
             ],
             [
              1,
              "#f0f921"
             ]
            ],
            "type": "histogram2d"
           }
          ],
          "histogram2dcontour": [
           {
            "colorbar": {
             "outlinewidth": 0,
             "ticks": ""
            },
            "colorscale": [
             [
              0,
              "#0d0887"
             ],
             [
              0.1111111111111111,
              "#46039f"
             ],
             [
              0.2222222222222222,
              "#7201a8"
             ],
             [
              0.3333333333333333,
              "#9c179e"
             ],
             [
              0.4444444444444444,
              "#bd3786"
             ],
             [
              0.5555555555555556,
              "#d8576b"
             ],
             [
              0.6666666666666666,
              "#ed7953"
             ],
             [
              0.7777777777777778,
              "#fb9f3a"
             ],
             [
              0.8888888888888888,
              "#fdca26"
             ],
             [
              1,
              "#f0f921"
             ]
            ],
            "type": "histogram2dcontour"
           }
          ],
          "mesh3d": [
           {
            "colorbar": {
             "outlinewidth": 0,
             "ticks": ""
            },
            "type": "mesh3d"
           }
          ],
          "parcoords": [
           {
            "line": {
             "colorbar": {
              "outlinewidth": 0,
              "ticks": ""
             }
            },
            "type": "parcoords"
           }
          ],
          "pie": [
           {
            "automargin": true,
            "type": "pie"
           }
          ],
          "scatter": [
           {
            "marker": {
             "line": {
              "color": "#283442"
             }
            },
            "type": "scatter"
           }
          ],
          "scatter3d": [
           {
            "line": {
             "colorbar": {
              "outlinewidth": 0,
              "ticks": ""
             }
            },
            "marker": {
             "colorbar": {
              "outlinewidth": 0,
              "ticks": ""
             }
            },
            "type": "scatter3d"
           }
          ],
          "scattercarpet": [
           {
            "marker": {
             "colorbar": {
              "outlinewidth": 0,
              "ticks": ""
             }
            },
            "type": "scattercarpet"
           }
          ],
          "scattergeo": [
           {
            "marker": {
             "colorbar": {
              "outlinewidth": 0,
              "ticks": ""
             }
            },
            "type": "scattergeo"
           }
          ],
          "scattergl": [
           {
            "marker": {
             "line": {
              "color": "#283442"
             }
            },
            "type": "scattergl"
           }
          ],
          "scattermapbox": [
           {
            "marker": {
             "colorbar": {
              "outlinewidth": 0,
              "ticks": ""
             }
            },
            "type": "scattermapbox"
           }
          ],
          "scatterpolar": [
           {
            "marker": {
             "colorbar": {
              "outlinewidth": 0,
              "ticks": ""
             }
            },
            "type": "scatterpolar"
           }
          ],
          "scatterpolargl": [
           {
            "marker": {
             "colorbar": {
              "outlinewidth": 0,
              "ticks": ""
             }
            },
            "type": "scatterpolargl"
           }
          ],
          "scatterternary": [
           {
            "marker": {
             "colorbar": {
              "outlinewidth": 0,
              "ticks": ""
             }
            },
            "type": "scatterternary"
           }
          ],
          "surface": [
           {
            "colorbar": {
             "outlinewidth": 0,
             "ticks": ""
            },
            "colorscale": [
             [
              0,
              "#0d0887"
             ],
             [
              0.1111111111111111,
              "#46039f"
             ],
             [
              0.2222222222222222,
              "#7201a8"
             ],
             [
              0.3333333333333333,
              "#9c179e"
             ],
             [
              0.4444444444444444,
              "#bd3786"
             ],
             [
              0.5555555555555556,
              "#d8576b"
             ],
             [
              0.6666666666666666,
              "#ed7953"
             ],
             [
              0.7777777777777778,
              "#fb9f3a"
             ],
             [
              0.8888888888888888,
              "#fdca26"
             ],
             [
              1,
              "#f0f921"
             ]
            ],
            "type": "surface"
           }
          ],
          "table": [
           {
            "cells": {
             "fill": {
              "color": "#506784"
             },
             "line": {
              "color": "rgb(17,17,17)"
             }
            },
            "header": {
             "fill": {
              "color": "#2a3f5f"
             },
             "line": {
              "color": "rgb(17,17,17)"
             }
            },
            "type": "table"
           }
          ]
         },
         "layout": {
          "annotationdefaults": {
           "arrowcolor": "#f2f5fa",
           "arrowhead": 0,
           "arrowwidth": 1
          },
          "autotypenumbers": "strict",
          "coloraxis": {
           "colorbar": {
            "outlinewidth": 0,
            "ticks": ""
           }
          },
          "colorscale": {
           "diverging": [
            [
             0,
             "#8e0152"
            ],
            [
             0.1,
             "#c51b7d"
            ],
            [
             0.2,
             "#de77ae"
            ],
            [
             0.3,
             "#f1b6da"
            ],
            [
             0.4,
             "#fde0ef"
            ],
            [
             0.5,
             "#f7f7f7"
            ],
            [
             0.6,
             "#e6f5d0"
            ],
            [
             0.7,
             "#b8e186"
            ],
            [
             0.8,
             "#7fbc41"
            ],
            [
             0.9,
             "#4d9221"
            ],
            [
             1,
             "#276419"
            ]
           ],
           "sequential": [
            [
             0,
             "#0d0887"
            ],
            [
             0.1111111111111111,
             "#46039f"
            ],
            [
             0.2222222222222222,
             "#7201a8"
            ],
            [
             0.3333333333333333,
             "#9c179e"
            ],
            [
             0.4444444444444444,
             "#bd3786"
            ],
            [
             0.5555555555555556,
             "#d8576b"
            ],
            [
             0.6666666666666666,
             "#ed7953"
            ],
            [
             0.7777777777777778,
             "#fb9f3a"
            ],
            [
             0.8888888888888888,
             "#fdca26"
            ],
            [
             1,
             "#f0f921"
            ]
           ],
           "sequentialminus": [
            [
             0,
             "#0d0887"
            ],
            [
             0.1111111111111111,
             "#46039f"
            ],
            [
             0.2222222222222222,
             "#7201a8"
            ],
            [
             0.3333333333333333,
             "#9c179e"
            ],
            [
             0.4444444444444444,
             "#bd3786"
            ],
            [
             0.5555555555555556,
             "#d8576b"
            ],
            [
             0.6666666666666666,
             "#ed7953"
            ],
            [
             0.7777777777777778,
             "#fb9f3a"
            ],
            [
             0.8888888888888888,
             "#fdca26"
            ],
            [
             1,
             "#f0f921"
            ]
           ]
          },
          "colorway": [
           "#636efa",
           "#EF553B",
           "#00cc96",
           "#ab63fa",
           "#FFA15A",
           "#19d3f3",
           "#FF6692",
           "#B6E880",
           "#FF97FF",
           "#FECB52"
          ],
          "font": {
           "color": "#f2f5fa"
          },
          "geo": {
           "bgcolor": "rgb(17,17,17)",
           "lakecolor": "rgb(17,17,17)",
           "landcolor": "rgb(17,17,17)",
           "showlakes": true,
           "showland": true,
           "subunitcolor": "#506784"
          },
          "hoverlabel": {
           "align": "left"
          },
          "hovermode": "closest",
          "mapbox": {
           "style": "dark"
          },
          "paper_bgcolor": "rgb(17,17,17)",
          "plot_bgcolor": "rgb(17,17,17)",
          "polar": {
           "angularaxis": {
            "gridcolor": "#506784",
            "linecolor": "#506784",
            "ticks": ""
           },
           "bgcolor": "rgb(17,17,17)",
           "radialaxis": {
            "gridcolor": "#506784",
            "linecolor": "#506784",
            "ticks": ""
           }
          },
          "scene": {
           "xaxis": {
            "backgroundcolor": "rgb(17,17,17)",
            "gridcolor": "#506784",
            "gridwidth": 2,
            "linecolor": "#506784",
            "showbackground": true,
            "ticks": "",
            "zerolinecolor": "#C8D4E3"
           },
           "yaxis": {
            "backgroundcolor": "rgb(17,17,17)",
            "gridcolor": "#506784",
            "gridwidth": 2,
            "linecolor": "#506784",
            "showbackground": true,
            "ticks": "",
            "zerolinecolor": "#C8D4E3"
           },
           "zaxis": {
            "backgroundcolor": "rgb(17,17,17)",
            "gridcolor": "#506784",
            "gridwidth": 2,
            "linecolor": "#506784",
            "showbackground": true,
            "ticks": "",
            "zerolinecolor": "#C8D4E3"
           }
          },
          "shapedefaults": {
           "line": {
            "color": "#f2f5fa"
           }
          },
          "sliderdefaults": {
           "bgcolor": "#C8D4E3",
           "bordercolor": "rgb(17,17,17)",
           "borderwidth": 1,
           "tickwidth": 0
          },
          "ternary": {
           "aaxis": {
            "gridcolor": "#506784",
            "linecolor": "#506784",
            "ticks": ""
           },
           "baxis": {
            "gridcolor": "#506784",
            "linecolor": "#506784",
            "ticks": ""
           },
           "bgcolor": "rgb(17,17,17)",
           "caxis": {
            "gridcolor": "#506784",
            "linecolor": "#506784",
            "ticks": ""
           }
          },
          "title": {
           "x": 0.05
          },
          "updatemenudefaults": {
           "bgcolor": "#506784",
           "borderwidth": 0
          },
          "xaxis": {
           "automargin": true,
           "gridcolor": "#283442",
           "linecolor": "#506784",
           "ticks": "",
           "title": {
            "standoff": 15
           },
           "zerolinecolor": "#283442",
           "zerolinewidth": 2
          },
          "yaxis": {
           "automargin": true,
           "gridcolor": "#283442",
           "linecolor": "#506784",
           "ticks": "",
           "title": {
            "standoff": 15
           },
           "zerolinecolor": "#283442",
           "zerolinewidth": 2
          }
         }
        },
        "title": {
         "text": "Job type of job posting<br><span style='font-size:10px;'>The figure shows the percentage of job applications requiring the skill(s)</span>"
        },
        "xaxis": {
         "anchor": "y",
         "domain": [
          0,
          1
         ],
         "title": {
          "text": "skill"
         }
        },
        "yaxis": {
         "anchor": "x",
         "domain": [
          0,
          1
         ],
         "range": [
          0,
          100
         ],
         "title": {
          "font": {
           "color": "white",
           "family": "Poppins, sans-serif",
           "size": 12
          },
          "text": "% of job applications"
         }
        }
       }
      }
     },
     "metadata": {},
     "output_type": "display_data"
    }
   ],
   "source": [
    "import plotly.express as px\n",
    "\n",
    "def create_bar_chart(x, y, title, x_label = 'skill(s)'):\n",
    "    fig = px.bar(x=x, y=y, title=title)\n",
    "    fig.update_yaxes(range=[0, 100])\n",
    "    fig.update_layout(\n",
    "        plot_bgcolor='#010103',\n",
    "        showlegend=False,\n",
    "        template='plotly_dark',\n",
    "        paper_bgcolor='#010103',\n",
    "        font=dict(\n",
    "            family='Poppins, sans-serif',  # Apply Poppins font\n",
    "            size=14,  # Set the default font size (adjust as needed)\n",
    "            color='white'  # Set the font color\n",
    "        ), \n",
    "        title={\n",
    "            'text': f\"{title}<br><span style='font-size:10px;'>The figure shows the percentage of job applications requiring the skill(s)</span>\",\n",
    "        }\n",
    "    )\n",
    "    fig.update_xaxes(title_text=x_label)  # Explicitly set the x-axis label\n",
    "    fig.update_yaxes(title_text='% of job postings'    \n",
    "                    ,title_font=dict(\n",
    "        family='Poppins, sans-serif',  # Font family\n",
    "        size=12,  # Font size (adjust as needed)\n",
    "        color='white'))  # Font color)  # Explicitly set the y-axis label)\n",
    "    return fig\n",
    "\n",
    "# Create the first bar chart\n",
    "fig_code = create_bar_chart(\n",
    "    x=df_coding_languages['skills'],\n",
    "    y=df_coding_languages['percentage'],\n",
    "    title='Coding language required',\n",
    ")\n",
    "\n",
    "# Create the second bar chart\n",
    "fig_cloud = create_bar_chart(\n",
    "    x=df_cloud_skills['skills'],\n",
    "    y=df_cloud_skills['percentage'],\n",
    "    title='Desired experience with Cloud service provider',\n",
    ")\n",
    "\n",
    "# Create the second bar chart\n",
    "fig_job_type = create_bar_chart(\n",
    "    x=job_type_share['job_type'],\n",
    "    y=df_cloud_skills['percentage'],\n",
    "    title='Job type of job posting',\n",
    "    x_label='job type',\n",
    ")\n",
    "\n",
    "fig_job_type.show()\n",
    "\n"
   ]
  }
 ],
 "metadata": {
  "kernelspec": {
   "display_name": ".venv",
   "language": "python",
   "name": "python3"
  },
  "language_info": {
   "codemirror_mode": {
    "name": "ipython",
    "version": 3
   },
   "file_extension": ".py",
   "mimetype": "text/x-python",
   "name": "python",
   "nbconvert_exporter": "python",
   "pygments_lexer": "ipython3",
   "version": "3.12.4"
  }
 },
 "nbformat": 4,
 "nbformat_minor": 2
}
